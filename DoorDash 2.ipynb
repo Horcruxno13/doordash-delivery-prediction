{
 "cells": [
  {
   "cell_type": "code",
   "execution_count": null,
   "id": "e6383045",
   "metadata": {},
   "outputs": [],
   "source": [
    "import numpy as np\n",
    "import pandas as pd\n",
    "from matplotlib import pyplot as plt\n",
    "from matplotlib.pyplot import figure\n",
    "import seaborn as sns\n",
    "from datetime import datetime as dt"
   ]
  },
  {
   "cell_type": "code",
   "execution_count": null,
   "id": "973a76dc",
   "metadata": {},
   "outputs": [],
   "source": [
    "historical_data = pd.read_csv('C:\\\\Users\\\\Jayesh\\\\Dropbox\\\\Data Science and Machine Learning\\\\Datasets\\\\historical_data.csv')"
   ]
  },
  {
   "cell_type": "code",
   "execution_count": null,
   "id": "a08612e7",
   "metadata": {},
   "outputs": [],
   "source": [
    "historical_data.info()"
   ]
  },
  {
   "cell_type": "code",
   "execution_count": null,
   "id": "f9ae091d",
   "metadata": {},
   "outputs": [],
   "source": [
    "historical_data.dropna(inplace=True)\n",
    "historical_data.info()"
   ]
  },
  {
   "cell_type": "code",
   "execution_count": null,
   "id": "ac1869d0",
   "metadata": {},
   "outputs": [],
   "source": [
    "historical_data['market_id'].value_counts()"
   ]
  },
  {
   "cell_type": "code",
   "execution_count": null,
   "id": "482871df",
   "metadata": {},
   "outputs": [],
   "source": [
    "historical_data.head(10)"
   ]
  },
  {
   "cell_type": "code",
   "execution_count": null,
   "id": "c5bb67f9",
   "metadata": {},
   "outputs": [],
   "source": [
    "historical_data[\"created_at\"] = pd.to_datetime(historical_data['created_at'])\n",
    "historical_data[\"actual_delivery_time\"] = pd.to_datetime(historical_data['actual_delivery_time'])\n",
    "historical_data[\"actual_total_delivery_duration\"] = (historical_data[\"actual_delivery_time\"] - historical_data[\"created_at\"]).dt.total_seconds()"
   ]
  },
  {
   "cell_type": "code",
   "execution_count": null,
   "id": "8ed48dac",
   "metadata": {},
   "outputs": [],
   "source": [
    "historical_data[\"hour_of_order\"] = historical_data['created_at'].dt.hour\n",
    "plt.hist(historical_data[\"hour_of_order\"], bins = 24)"
   ]
  },
  {
   "cell_type": "code",
   "execution_count": null,
   "id": "ad5add63",
   "metadata": {},
   "outputs": [],
   "source": [
    "plt.hist(historical_data[\"actual_total_delivery_duration\"], bins=100, range=(0,10000))"
   ]
  },
  {
   "cell_type": "code",
   "execution_count": null,
   "id": "0200c152",
   "metadata": {},
   "outputs": [],
   "source": [
    "historical_data[\"actual_total_delivery_duration\"].sort_values()"
   ]
  },
  {
   "cell_type": "code",
   "execution_count": null,
   "id": "6aedf9de",
   "metadata": {},
   "outputs": [],
   "source": [
    "historical_data.drop(historical_data[historical_data[\"actual_total_delivery_duration\"]>8000].index, inplace=True)"
   ]
  },
  {
   "cell_type": "code",
   "execution_count": null,
   "id": "f96f98fe",
   "metadata": {},
   "outputs": [],
   "source": [
    "historical_data['store_id'].value_counts()"
   ]
  },
  {
   "cell_type": "code",
   "execution_count": null,
   "id": "af2c8318",
   "metadata": {},
   "outputs": [],
   "source": [
    "historical_data['store_id'].nunique()"
   ]
  },
  {
   "cell_type": "code",
   "execution_count": null,
   "id": "12ec01ff",
   "metadata": {},
   "outputs": [],
   "source": [
    "primary_cat = historical_data['store_primary_category'].value_counts()"
   ]
  },
  {
   "cell_type": "code",
   "execution_count": null,
   "id": "06821ecf",
   "metadata": {},
   "outputs": [],
   "source": [
    "historical_data['store_primary_category'].nunique()"
   ]
  },
  {
   "cell_type": "code",
   "execution_count": null,
   "id": "6487f168",
   "metadata": {},
   "outputs": [],
   "source": [
    "convert = primary_cat[40:]\n",
    "historical_data['store_primary_category'] = historical_data['store_primary_category'].apply(lambda x: 'other' if x in convert else x)"
   ]
  },
  {
   "cell_type": "code",
   "execution_count": null,
   "id": "ae019e02",
   "metadata": {
    "scrolled": true
   },
   "outputs": [],
   "source": [
    "historical_data['store_primary_category'].value_counts()"
   ]
  },
  {
   "cell_type": "code",
   "execution_count": null,
   "id": "c7c600d4",
   "metadata": {},
   "outputs": [],
   "source": [
    "plt.hist(historical_data['total_items'], bins = 10, range = (1,20))"
   ]
  },
  {
   "cell_type": "code",
   "execution_count": null,
   "id": "e5c357d1",
   "metadata": {},
   "outputs": [],
   "source": [
    "plt.hist(historical_data['subtotal'], bins = 20, range = (100,10000))"
   ]
  },
  {
   "cell_type": "code",
   "execution_count": null,
   "id": "34138ea5",
   "metadata": {},
   "outputs": [],
   "source": [
    "plt.hist(historical_data['num_distinct_items'], bins = 10, range = (1,20))"
   ]
  },
  {
   "cell_type": "code",
   "execution_count": null,
   "id": "05936f3d",
   "metadata": {},
   "outputs": [],
   "source": [
    "historical_data['total_available_dashers'] = historical_data['total_onshift_dashers'] - historical_data['total_busy_dashers']"
   ]
  },
  {
   "cell_type": "code",
   "execution_count": null,
   "id": "1fa9f02d",
   "metadata": {},
   "outputs": [],
   "source": [
    "len(historical_data[historical_data['total_available_dashers']<0])"
   ]
  },
  {
   "cell_type": "code",
   "execution_count": null,
   "id": "2f5470f9",
   "metadata": {},
   "outputs": [],
   "source": [
    "historical_data = historical_data.drop(columns = ['created_at', 'actual_delivery_time', 'store_id', 'total_onshift_dashers', 'total_busy_dashers'])"
   ]
  },
  {
   "cell_type": "code",
   "execution_count": null,
   "id": "e762055c",
   "metadata": {},
   "outputs": [],
   "source": [
    "market_id_dummies = pd.get_dummies(historical_data.market_id)\n",
    "market_id_dummies = market_id_dummies.add_prefix('market_id_')"
   ]
  },
  {
   "cell_type": "code",
   "execution_count": null,
   "id": "715842e0",
   "metadata": {},
   "outputs": [],
   "source": [
    "category_dummies = pd.get_dummies(historical_data.store_primary_category)\n",
    "category_dummies = category_dummies.add_prefix('category_')"
   ]
  },
  {
   "cell_type": "code",
   "execution_count": null,
   "id": "a02c6ff2",
   "metadata": {},
   "outputs": [],
   "source": [
    "order_protocol_dummies = pd.get_dummies(historical_data.order_protocol)\n",
    "order_protocol_dummies = order_protocol_dummies.add_prefix('order_protocol_')"
   ]
  },
  {
   "cell_type": "code",
   "execution_count": null,
   "id": "7e05e02d",
   "metadata": {},
   "outputs": [],
   "source": [
    "hour_dummies = pd.get_dummies(historical_data.hour_of_order)\n",
    "hour_dummies = hour_dummies.add_prefix('hour_')"
   ]
  },
  {
   "cell_type": "code",
   "execution_count": null,
   "id": "910b9a1c",
   "metadata": {},
   "outputs": [],
   "source": [
    "final_df = pd.concat([historical_data, market_id_dummies, category_dummies, order_protocol_dummies, hour_dummies], axis=1)"
   ]
  },
  {
   "cell_type": "code",
   "execution_count": null,
   "id": "b881f222",
   "metadata": {},
   "outputs": [],
   "source": [
    "final_df.info()"
   ]
  },
  {
   "cell_type": "code",
   "execution_count": null,
   "id": "e1677d3e",
   "metadata": {},
   "outputs": [],
   "source": [
    "final_df = final_df.drop(columns = ['store_primary_category', 'order_protocol', 'market_id', 'hour_of_order'])"
   ]
  },
  {
   "cell_type": "code",
   "execution_count": null,
   "id": "6719f7fa",
   "metadata": {},
   "outputs": [],
   "source": [
    "corr = final_df.corr()"
   ]
  },
  {
   "cell_type": "code",
   "execution_count": null,
   "id": "f4aa07c8",
   "metadata": {},
   "outputs": [],
   "source": [
    "mask = np.triu(np.ones_like(corr, dtype=bool))"
   ]
  },
  {
   "cell_type": "code",
   "execution_count": null,
   "id": "9bc1df81",
   "metadata": {},
   "outputs": [],
   "source": [
    "f, ax = plt.subplots(figsize=(11, 9))\n",
    "cmap = sns.diverging_palette(230, 20, as_cmap=True)\n",
    "sns.heatmap(corr, mask=mask, cmap=cmap, vmax=.3, center=0, square=True, linewidths=.5, cbar_kws={\"shrink\": .5})"
   ]
  },
  {
   "cell_type": "code",
   "execution_count": null,
   "id": "f7148ccd",
   "metadata": {},
   "outputs": [],
   "source": [
    "corr.abs().unstack().sort_values(ascending = False).drop_duplicates().head(20)"
   ]
  },
  {
   "cell_type": "code",
   "execution_count": null,
   "id": "4be5436d",
   "metadata": {},
   "outputs": [],
   "source": [
    "final_df['ratio_of_items'] = final_df['num_distinct_items']/final_df['total_items']"
   ]
  },
  {
   "cell_type": "code",
   "execution_count": null,
   "id": "2291e207",
   "metadata": {},
   "outputs": [],
   "source": [
    "final_df['average_price'] = (final_df['min_item_price'] + final_df['max_item_price'])/2"
   ]
  },
  {
   "cell_type": "code",
   "execution_count": null,
   "id": "058a12e0",
   "metadata": {},
   "outputs": [],
   "source": [
    "final_df[\"avg_price_per_item\"] = final_df[\"subtotal\"] / final_df[\"total_items\"]"
   ]
  },
  {
   "cell_type": "code",
   "execution_count": null,
   "id": "ee59bdd8",
   "metadata": {},
   "outputs": [],
   "source": [
    "corr = final_df.corr()\n",
    "corr.abs().unstack().sort_values(ascending = False).drop_duplicates().head(20)"
   ]
  },
  {
   "cell_type": "code",
   "execution_count": null,
   "id": "77dcffd9",
   "metadata": {},
   "outputs": [],
   "source": [
    "final_df.drop(columns=['min_item_price', 'max_item_price', 'avg_price_per_item', 'num_distinct_items'], inplace=True)"
   ]
  },
  {
   "cell_type": "code",
   "execution_count": null,
   "id": "a6de83e1",
   "metadata": {},
   "outputs": [],
   "source": [
    "corr = final_df.corr()\n",
    "corr.abs().unstack().sort_values(ascending = False).drop_duplicates().head(20)"
   ]
  },
  {
   "cell_type": "code",
   "execution_count": null,
   "id": "271c0e51",
   "metadata": {
    "scrolled": true
   },
   "outputs": [],
   "source": [
    "final_df = final_df.astype(\"float32\")"
   ]
  },
  {
   "cell_type": "code",
   "execution_count": null,
   "id": "6fc2ce68",
   "metadata": {},
   "outputs": [],
   "source": [
    "features = final_df.drop(columns=[\"actual_total_delivery_duration\"]).columns.to_list()"
   ]
  },
  {
   "cell_type": "code",
   "execution_count": null,
   "id": "cdfb06c8",
   "metadata": {},
   "outputs": [],
   "source": [
    "from sklearn.preprocessing import MinMaxScaler, StandardScaler\n",
    "from sklearn.model_selection import train_test_split"
   ]
  },
  {
   "cell_type": "code",
   "execution_count": null,
   "id": "b9ba6136",
   "metadata": {},
   "outputs": [],
   "source": [
    "X = final_df[features]\n",
    "y = final_df[\"actual_total_delivery_duration\"]"
   ]
  },
  {
   "cell_type": "code",
   "execution_count": null,
   "id": "45698bb9",
   "metadata": {},
   "outputs": [],
   "source": [
    "scaler = MinMaxScaler()\n",
    "scaler_fit = scaler.fit(final_df)\n",
    "scaled = scaler_fit.transform(final_df)\n",
    "scaled_df = pd.DataFrame(scaled, columns = final_df.columns)"
   ]
  },
  {
   "cell_type": "code",
   "execution_count": null,
   "id": "396f0fa0",
   "metadata": {},
   "outputs": [],
   "source": [
    "scaled_df"
   ]
  },
  {
   "cell_type": "code",
   "execution_count": null,
   "id": "7558fb6f",
   "metadata": {},
   "outputs": [],
   "source": [
    "X_train, X_test, y_train, y_test = train_test_split(scaled_df[features], scaled_df['actual_total_delivery_duration'], test_size=0.2, random_state=42)"
   ]
  },
  {
   "cell_type": "code",
   "execution_count": null,
   "id": "f4a67d08",
   "metadata": {},
   "outputs": [],
   "source": [
    "from sklearn.ensemble import RandomForestRegressor"
   ]
  },
  {
   "cell_type": "code",
   "execution_count": null,
   "id": "0209a74a",
   "metadata": {},
   "outputs": [],
   "source": [
    "feature_names = [f\"feature {i}\" for i in range((X.shape[1]))]\n",
    "forest = RandomForestRegressor(random_state=42)\n",
    "forest.fit(X_train, y_train)\n",
    "feats = {} \n",
    "for feature, importance in zip(X.columns, forest.feature_importances_):\n",
    "    feats[feature] = importance\n",
    "\n",
    "importances = pd.DataFrame.from_dict(feats, orient='index').rename(columns={0: 'Gini-importance'})\n",
    "importances.sort_values(by='Gini-importance').plot(kind='bar', rot=90, figsize=(15,12))\n",
    "plt.show()                                              "
   ]
  },
  {
   "cell_type": "code",
   "execution_count": null,
   "id": "6c99675c",
   "metadata": {},
   "outputs": [],
   "source": [
    "from sklearn.decomposition import PCA"
   ]
  },
  {
   "cell_type": "code",
   "execution_count": null,
   "id": "063fad22",
   "metadata": {},
   "outputs": [],
   "source": [
    "pca = PCA().fit(X_train)"
   ]
  },
  {
   "cell_type": "code",
   "execution_count": null,
   "id": "a34e9a3d",
   "metadata": {},
   "outputs": [],
   "source": [
    "plt.plot(np.cumsum(pca.explained_variance_ratio_))\n",
    "plt.xlim(0,79,1)\n",
    "plt.xlabel('Number of components')\n",
    "plt.ylabel('Cumulative explained variance')\n",
    "plt.show()"
   ]
  },
  {
   "cell_type": "code",
   "execution_count": null,
   "id": "42bc228f",
   "metadata": {},
   "outputs": [],
   "source": [
    "from xgboost import XGBRegressor\n",
    "from lightgbm import LGBMRegressor"
   ]
  },
  {
   "cell_type": "code",
   "execution_count": null,
   "id": "3fd15866",
   "metadata": {},
   "outputs": [],
   "source": [
    "from sklearn.linear_model import LogisticRegression\n",
    "from sklearn.linear_model import Ridge\n",
    "from sklearn.tree import DecisionTreeRegressor\n",
    "from sklearn.svm import SVR\n",
    "from sklearn.neighbors import KNeighborsRegressor\n",
    "from sklearn.neural_network import MLPRegressor\n",
    "from sklearn.metrics import mean_squared_error"
   ]
  },
  {
   "cell_type": "code",
   "execution_count": null,
   "id": "79d66391",
   "metadata": {},
   "outputs": [],
   "source": [
    "models = {\"Ridge\" : Ridge(),\n",
    "         \"Decision Tree\" : DecisionTreeRegressor(),\n",
    "         \"Random Forest\" : RandomForestRegressor(),\n",
    "         \"XGBoost\" : XGBRegressor(),\n",
    "         \"LightGBM\" : LGBMRegressor(),\n",
    "         \"K Nearest Neighbors\" : KNeighborsRegressor(),\n",
    "         \"Multi Layer Perceptron\" : MLPRegressor()}"
   ]
  },
  {
   "cell_type": "code",
   "execution_count": null,
   "id": "98b58ab3",
   "metadata": {},
   "outputs": [],
   "source": [
    "def train_model (X_train, X_test, y_train, y_test, model, model_name, scaler):\n",
    "    model.fit(X_train, y_train)\n",
    "    y_predict = model.predict(X_test)\n",
    "    y_predict1 = scaler.inverse_transform(y_predict.reshape(-1, 1))\n",
    "    y_test1 = scaler.inverse_transform(y_test.values.reshape(-1, 1))\n",
    "    test_error = mean_squared_error(y_test1, y_predict1, squared=False)\n",
    "    print(\"Test error = \"'{}'.format(test_error)+\" in \" + model_name)"
   ]
  },
  {
   "cell_type": "code",
   "execution_count": null,
   "id": "9cf18982",
   "metadata": {},
   "outputs": [],
   "source": [
    "scaler = MinMaxScaler()\n",
    "y_scaler = scaler.fit(final_df[\"actual_total_delivery_duration\"].values.reshape(-1,1))\n",
    "for model in models:\n",
    "    train_model(X_train, X_test, y_train, y_test, models[model], model, y_scaler)"
   ]
  },
  {
   "cell_type": "code",
   "execution_count": null,
   "id": "407fed74",
   "metadata": {},
   "outputs": [],
   "source": [
    "import keras\n",
    "from keras.models import Sequential\n",
    "from keras.layers import Dense\n",
    "from keras.metrics import RootMeanSquaredError\n",
    "import tensorflow as tf"
   ]
  },
  {
   "cell_type": "code",
   "execution_count": null,
   "id": "38c744b3",
   "metadata": {},
   "outputs": [],
   "source": [
    "model = tf.keras.Sequential()\n",
    "model.add(Dense(40, input_dim = (len(features)), activation = 'relu'))"
   ]
  },
  {
   "cell_type": "code",
   "execution_count": null,
   "id": "de214701",
   "metadata": {},
   "outputs": [],
   "source": [
    "model.add(Dense(10, activation = 'linear'))\n",
    "model.add(Dense(1, activation = 'linear'))"
   ]
  },
  {
   "cell_type": "code",
   "execution_count": null,
   "id": "4b15b439",
   "metadata": {},
   "outputs": [],
   "source": [
    "model.compile(optimizer='adam', loss='mse', metrics=[RootMeanSquaredError()])"
   ]
  },
  {
   "cell_type": "code",
   "execution_count": null,
   "id": "9f54beba",
   "metadata": {},
   "outputs": [],
   "source": [
    "history = model.fit(X_train, y_train, epochs = 50, verbose = 2)"
   ]
  },
  {
   "cell_type": "code",
   "execution_count": null,
   "id": "c5e857d4",
   "metadata": {},
   "outputs": [],
   "source": [
    "y_predict = model.predict(X_test)"
   ]
  },
  {
   "cell_type": "code",
   "execution_count": null,
   "id": "50676c9f",
   "metadata": {},
   "outputs": [],
   "source": [
    "y_scaler = scaler.fit(final_df[\"actual_total_delivery_duration\"].values.reshape(-1,1))\n",
    "y_predict1 = y_scaler.inverse_transform(y_predict.reshape(-1, 1))\n",
    "y_test1 = y_scaler.inverse_transform(y_test.values.reshape(-1, 1))"
   ]
  },
  {
   "cell_type": "code",
   "execution_count": null,
   "id": "579e71c2",
   "metadata": {},
   "outputs": [],
   "source": [
    "test_error = mean_squared_error(y_test1, y_predict1, squared=False)"
   ]
  },
  {
   "cell_type": "code",
   "execution_count": null,
   "id": "8e8afbb1",
   "metadata": {},
   "outputs": [],
   "source": [
    "test_error"
   ]
  }
 ],
 "metadata": {
  "kernelspec": {
   "display_name": "Python 3",
   "language": "python",
   "name": "python3"
  },
  "language_info": {
   "codemirror_mode": {
    "name": "ipython",
    "version": 3
   },
   "file_extension": ".py",
   "mimetype": "text/x-python",
   "name": "python",
   "nbconvert_exporter": "python",
   "pygments_lexer": "ipython3",
   "version": "3.8.8"
  }
 },
 "nbformat": 4,
 "nbformat_minor": 5
}
