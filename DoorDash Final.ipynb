{
 "cells": [
  {
   "cell_type": "markdown",
   "id": "c073872e",
   "metadata": {},
   "source": [
    "# Door Dash Delivery Prediction\n",
    "## Introduction\n",
    "This data project has been used as a take-home assignment in the recruitment process for the data science positions at DoorDash. The Dataset has been obtained from Stratascratch.com.\n",
    "\n",
    "In recent years, the popularity of food delivery services has grown significantly, and DoorDash has emerged as a leading player in this market. As more and more people rely on DoorDash to get their meals delivered, it becomes increasingly important for the company to ensure timely deliveries to maintain customer satisfaction. One key factor that affects customer satisfaction is the delivery duration, which refers to the time it takes for the DoorDash driver to pick up the food from the restaurant and deliver it to the customer.\n",
    "\n",
    "To improve the delivery duration and customer satisfaction, DoorDash can leverage data science techniques to predict the delivery duration accurately. This data science project aims to develop a predictive model that can estimate the delivery duration of DoorDash orders based on various factors as we will explore below."
   ]
  },
  {
   "cell_type": "markdown",
   "id": "69593f32",
   "metadata": {},
   "source": [
    "## 1. Exploratory Data Analysis & Data Preprocessing\n",
    "### 1.1 Importing the necessary libraries"
   ]
  },
  {
   "cell_type": "code",
   "execution_count": 1,
   "id": "e6383045",
   "metadata": {},
   "outputs": [],
   "source": [
    "import numpy as np\n",
    "import pandas as pd\n",
    "from matplotlib import pyplot as plt\n",
    "from matplotlib.pyplot import figure\n",
    "import seaborn as sns\n",
    "from datetime import datetime as dt"
   ]
  },
  {
   "cell_type": "code",
   "execution_count": 2,
   "id": "973a76dc",
   "metadata": {},
   "outputs": [],
   "source": [
    "historical_data = pd.read_csv('C:\\\\Users\\\\Jayesh\\\\Dropbox\\\\Data Science and Machine Learning\\\\Datasets\\\\historical_data.csv')"
   ]
  },
  {
   "cell_type": "code",
   "execution_count": 3,
   "id": "a08612e7",
   "metadata": {},
   "outputs": [
    {
     "name": "stdout",
     "output_type": "stream",
     "text": [
      "<class 'pandas.core.frame.DataFrame'>\n",
      "RangeIndex: 197428 entries, 0 to 197427\n",
      "Data columns (total 16 columns):\n",
      " #   Column                                        Non-Null Count   Dtype  \n",
      "---  ------                                        --------------   -----  \n",
      " 0   market_id                                     196441 non-null  float64\n",
      " 1   created_at                                    197428 non-null  object \n",
      " 2   actual_delivery_time                          197421 non-null  object \n",
      " 3   store_id                                      197428 non-null  int64  \n",
      " 4   store_primary_category                        192668 non-null  object \n",
      " 5   order_protocol                                196433 non-null  float64\n",
      " 6   total_items                                   197428 non-null  int64  \n",
      " 7   subtotal                                      197428 non-null  int64  \n",
      " 8   num_distinct_items                            197428 non-null  int64  \n",
      " 9   min_item_price                                197428 non-null  int64  \n",
      " 10  max_item_price                                197428 non-null  int64  \n",
      " 11  total_onshift_dashers                         181166 non-null  float64\n",
      " 12  total_busy_dashers                            181166 non-null  float64\n",
      " 13  total_outstanding_orders                      181166 non-null  float64\n",
      " 14  estimated_order_place_duration                197428 non-null  int64  \n",
      " 15  estimated_store_to_consumer_driving_duration  196902 non-null  float64\n",
      "dtypes: float64(6), int64(7), object(3)\n",
      "memory usage: 24.1+ MB\n"
     ]
    }
   ],
   "source": [
    "historical_data.info()"
   ]
  },
  {
   "cell_type": "markdown",
   "id": "359e654c",
   "metadata": {},
   "source": [
    "### 1.2 Dealing with missing values"
   ]
  },
  {
   "cell_type": "code",
   "execution_count": 4,
   "id": "f9ae091d",
   "metadata": {},
   "outputs": [
    {
     "name": "stdout",
     "output_type": "stream",
     "text": [
      "<class 'pandas.core.frame.DataFrame'>\n",
      "Int64Index: 175777 entries, 0 to 197427\n",
      "Data columns (total 16 columns):\n",
      " #   Column                                        Non-Null Count   Dtype  \n",
      "---  ------                                        --------------   -----  \n",
      " 0   market_id                                     175777 non-null  float64\n",
      " 1   created_at                                    175777 non-null  object \n",
      " 2   actual_delivery_time                          175777 non-null  object \n",
      " 3   store_id                                      175777 non-null  int64  \n",
      " 4   store_primary_category                        175777 non-null  object \n",
      " 5   order_protocol                                175777 non-null  float64\n",
      " 6   total_items                                   175777 non-null  int64  \n",
      " 7   subtotal                                      175777 non-null  int64  \n",
      " 8   num_distinct_items                            175777 non-null  int64  \n",
      " 9   min_item_price                                175777 non-null  int64  \n",
      " 10  max_item_price                                175777 non-null  int64  \n",
      " 11  total_onshift_dashers                         175777 non-null  float64\n",
      " 12  total_busy_dashers                            175777 non-null  float64\n",
      " 13  total_outstanding_orders                      175777 non-null  float64\n",
      " 14  estimated_order_place_duration                175777 non-null  int64  \n",
      " 15  estimated_store_to_consumer_driving_duration  175777 non-null  float64\n",
      "dtypes: float64(6), int64(7), object(3)\n",
      "memory usage: 22.8+ MB\n"
     ]
    }
   ],
   "source": [
    "historical_data.dropna(inplace=True)\n",
    "historical_data.info()"
   ]
  },
  {
   "cell_type": "code",
   "execution_count": 5,
   "id": "ac1869d0",
   "metadata": {},
   "outputs": [
    {
     "data": {
      "text/plain": [
       "2.0    53469\n",
       "4.0    46222\n",
       "1.0    37115\n",
       "3.0    21075\n",
       "5.0    17258\n",
       "6.0      638\n",
       "Name: market_id, dtype: int64"
      ]
     },
     "execution_count": 5,
     "metadata": {},
     "output_type": "execute_result"
    }
   ],
   "source": [
    "historical_data['market_id'].value_counts()"
   ]
  },
  {
   "cell_type": "code",
   "execution_count": 6,
   "id": "482871df",
   "metadata": {},
   "outputs": [
    {
     "data": {
      "text/html": [
       "<div>\n",
       "<style scoped>\n",
       "    .dataframe tbody tr th:only-of-type {\n",
       "        vertical-align: middle;\n",
       "    }\n",
       "\n",
       "    .dataframe tbody tr th {\n",
       "        vertical-align: top;\n",
       "    }\n",
       "\n",
       "    .dataframe thead th {\n",
       "        text-align: right;\n",
       "    }\n",
       "</style>\n",
       "<table border=\"1\" class=\"dataframe\">\n",
       "  <thead>\n",
       "    <tr style=\"text-align: right;\">\n",
       "      <th></th>\n",
       "      <th>market_id</th>\n",
       "      <th>created_at</th>\n",
       "      <th>actual_delivery_time</th>\n",
       "      <th>store_id</th>\n",
       "      <th>store_primary_category</th>\n",
       "      <th>order_protocol</th>\n",
       "      <th>total_items</th>\n",
       "      <th>subtotal</th>\n",
       "      <th>num_distinct_items</th>\n",
       "      <th>min_item_price</th>\n",
       "      <th>max_item_price</th>\n",
       "      <th>total_onshift_dashers</th>\n",
       "      <th>total_busy_dashers</th>\n",
       "      <th>total_outstanding_orders</th>\n",
       "      <th>estimated_order_place_duration</th>\n",
       "      <th>estimated_store_to_consumer_driving_duration</th>\n",
       "    </tr>\n",
       "  </thead>\n",
       "  <tbody>\n",
       "    <tr>\n",
       "      <th>0</th>\n",
       "      <td>1.0</td>\n",
       "      <td>2015-02-06 22:24:17</td>\n",
       "      <td>2015-02-06 23:27:16</td>\n",
       "      <td>1845</td>\n",
       "      <td>american</td>\n",
       "      <td>1.0</td>\n",
       "      <td>4</td>\n",
       "      <td>3441</td>\n",
       "      <td>4</td>\n",
       "      <td>557</td>\n",
       "      <td>1239</td>\n",
       "      <td>33.0</td>\n",
       "      <td>14.0</td>\n",
       "      <td>21.0</td>\n",
       "      <td>446</td>\n",
       "      <td>861.0</td>\n",
       "    </tr>\n",
       "    <tr>\n",
       "      <th>1</th>\n",
       "      <td>2.0</td>\n",
       "      <td>2015-02-10 21:49:25</td>\n",
       "      <td>2015-02-10 22:56:29</td>\n",
       "      <td>5477</td>\n",
       "      <td>mexican</td>\n",
       "      <td>2.0</td>\n",
       "      <td>1</td>\n",
       "      <td>1900</td>\n",
       "      <td>1</td>\n",
       "      <td>1400</td>\n",
       "      <td>1400</td>\n",
       "      <td>1.0</td>\n",
       "      <td>2.0</td>\n",
       "      <td>2.0</td>\n",
       "      <td>446</td>\n",
       "      <td>690.0</td>\n",
       "    </tr>\n",
       "    <tr>\n",
       "      <th>8</th>\n",
       "      <td>2.0</td>\n",
       "      <td>2015-02-16 00:11:35</td>\n",
       "      <td>2015-02-16 00:38:01</td>\n",
       "      <td>5477</td>\n",
       "      <td>indian</td>\n",
       "      <td>3.0</td>\n",
       "      <td>4</td>\n",
       "      <td>4771</td>\n",
       "      <td>3</td>\n",
       "      <td>820</td>\n",
       "      <td>1604</td>\n",
       "      <td>8.0</td>\n",
       "      <td>6.0</td>\n",
       "      <td>18.0</td>\n",
       "      <td>446</td>\n",
       "      <td>289.0</td>\n",
       "    </tr>\n",
       "    <tr>\n",
       "      <th>14</th>\n",
       "      <td>1.0</td>\n",
       "      <td>2015-02-12 03:36:46</td>\n",
       "      <td>2015-02-12 04:14:39</td>\n",
       "      <td>2841</td>\n",
       "      <td>italian</td>\n",
       "      <td>1.0</td>\n",
       "      <td>1</td>\n",
       "      <td>1525</td>\n",
       "      <td>1</td>\n",
       "      <td>1525</td>\n",
       "      <td>1525</td>\n",
       "      <td>5.0</td>\n",
       "      <td>6.0</td>\n",
       "      <td>8.0</td>\n",
       "      <td>446</td>\n",
       "      <td>795.0</td>\n",
       "    </tr>\n",
       "    <tr>\n",
       "      <th>15</th>\n",
       "      <td>1.0</td>\n",
       "      <td>2015-01-27 02:12:36</td>\n",
       "      <td>2015-01-27 03:02:24</td>\n",
       "      <td>2841</td>\n",
       "      <td>italian</td>\n",
       "      <td>1.0</td>\n",
       "      <td>2</td>\n",
       "      <td>3620</td>\n",
       "      <td>2</td>\n",
       "      <td>1425</td>\n",
       "      <td>2195</td>\n",
       "      <td>5.0</td>\n",
       "      <td>5.0</td>\n",
       "      <td>7.0</td>\n",
       "      <td>446</td>\n",
       "      <td>205.0</td>\n",
       "    </tr>\n",
       "    <tr>\n",
       "      <th>16</th>\n",
       "      <td>1.0</td>\n",
       "      <td>2015-02-06 00:42:42</td>\n",
       "      <td>2015-02-06 02:10:29</td>\n",
       "      <td>2841</td>\n",
       "      <td>italian</td>\n",
       "      <td>1.0</td>\n",
       "      <td>3</td>\n",
       "      <td>4475</td>\n",
       "      <td>3</td>\n",
       "      <td>925</td>\n",
       "      <td>1825</td>\n",
       "      <td>4.0</td>\n",
       "      <td>1.0</td>\n",
       "      <td>1.0</td>\n",
       "      <td>446</td>\n",
       "      <td>542.0</td>\n",
       "    </tr>\n",
       "    <tr>\n",
       "      <th>17</th>\n",
       "      <td>1.0</td>\n",
       "      <td>2015-02-08 02:04:17</td>\n",
       "      <td>2015-02-08 03:27:13</td>\n",
       "      <td>2841</td>\n",
       "      <td>italian</td>\n",
       "      <td>1.0</td>\n",
       "      <td>3</td>\n",
       "      <td>4375</td>\n",
       "      <td>3</td>\n",
       "      <td>1325</td>\n",
       "      <td>1625</td>\n",
       "      <td>6.0</td>\n",
       "      <td>4.0</td>\n",
       "      <td>3.0</td>\n",
       "      <td>446</td>\n",
       "      <td>789.0</td>\n",
       "    </tr>\n",
       "    <tr>\n",
       "      <th>18</th>\n",
       "      <td>1.0</td>\n",
       "      <td>2015-01-31 04:35:54</td>\n",
       "      <td>2015-01-31 05:47:30</td>\n",
       "      <td>2841</td>\n",
       "      <td>italian</td>\n",
       "      <td>1.0</td>\n",
       "      <td>2</td>\n",
       "      <td>3150</td>\n",
       "      <td>2</td>\n",
       "      <td>1425</td>\n",
       "      <td>1725</td>\n",
       "      <td>4.0</td>\n",
       "      <td>9.0</td>\n",
       "      <td>12.0</td>\n",
       "      <td>446</td>\n",
       "      <td>548.0</td>\n",
       "    </tr>\n",
       "    <tr>\n",
       "      <th>19</th>\n",
       "      <td>1.0</td>\n",
       "      <td>2015-01-31 02:21:23</td>\n",
       "      <td>2015-01-31 03:11:42</td>\n",
       "      <td>4139</td>\n",
       "      <td>mexican</td>\n",
       "      <td>1.0</td>\n",
       "      <td>2</td>\n",
       "      <td>950</td>\n",
       "      <td>2</td>\n",
       "      <td>150</td>\n",
       "      <td>700</td>\n",
       "      <td>24.0</td>\n",
       "      <td>24.0</td>\n",
       "      <td>26.0</td>\n",
       "      <td>446</td>\n",
       "      <td>212.0</td>\n",
       "    </tr>\n",
       "    <tr>\n",
       "      <th>20</th>\n",
       "      <td>1.0</td>\n",
       "      <td>2015-01-31 23:45:12</td>\n",
       "      <td>2015-02-01 00:14:05</td>\n",
       "      <td>4139</td>\n",
       "      <td>mexican</td>\n",
       "      <td>1.0</td>\n",
       "      <td>5</td>\n",
       "      <td>1285</td>\n",
       "      <td>3</td>\n",
       "      <td>150</td>\n",
       "      <td>400</td>\n",
       "      <td>12.0</td>\n",
       "      <td>13.0</td>\n",
       "      <td>11.0</td>\n",
       "      <td>446</td>\n",
       "      <td>424.0</td>\n",
       "    </tr>\n",
       "  </tbody>\n",
       "</table>\n",
       "</div>"
      ],
      "text/plain": [
       "    market_id           created_at actual_delivery_time  store_id  \\\n",
       "0         1.0  2015-02-06 22:24:17  2015-02-06 23:27:16      1845   \n",
       "1         2.0  2015-02-10 21:49:25  2015-02-10 22:56:29      5477   \n",
       "8         2.0  2015-02-16 00:11:35  2015-02-16 00:38:01      5477   \n",
       "14        1.0  2015-02-12 03:36:46  2015-02-12 04:14:39      2841   \n",
       "15        1.0  2015-01-27 02:12:36  2015-01-27 03:02:24      2841   \n",
       "16        1.0  2015-02-06 00:42:42  2015-02-06 02:10:29      2841   \n",
       "17        1.0  2015-02-08 02:04:17  2015-02-08 03:27:13      2841   \n",
       "18        1.0  2015-01-31 04:35:54  2015-01-31 05:47:30      2841   \n",
       "19        1.0  2015-01-31 02:21:23  2015-01-31 03:11:42      4139   \n",
       "20        1.0  2015-01-31 23:45:12  2015-02-01 00:14:05      4139   \n",
       "\n",
       "   store_primary_category  order_protocol  total_items  subtotal  \\\n",
       "0                american             1.0            4      3441   \n",
       "1                 mexican             2.0            1      1900   \n",
       "8                  indian             3.0            4      4771   \n",
       "14                italian             1.0            1      1525   \n",
       "15                italian             1.0            2      3620   \n",
       "16                italian             1.0            3      4475   \n",
       "17                italian             1.0            3      4375   \n",
       "18                italian             1.0            2      3150   \n",
       "19                mexican             1.0            2       950   \n",
       "20                mexican             1.0            5      1285   \n",
       "\n",
       "    num_distinct_items  min_item_price  max_item_price  total_onshift_dashers  \\\n",
       "0                    4             557            1239                   33.0   \n",
       "1                    1            1400            1400                    1.0   \n",
       "8                    3             820            1604                    8.0   \n",
       "14                   1            1525            1525                    5.0   \n",
       "15                   2            1425            2195                    5.0   \n",
       "16                   3             925            1825                    4.0   \n",
       "17                   3            1325            1625                    6.0   \n",
       "18                   2            1425            1725                    4.0   \n",
       "19                   2             150             700                   24.0   \n",
       "20                   3             150             400                   12.0   \n",
       "\n",
       "    total_busy_dashers  total_outstanding_orders  \\\n",
       "0                 14.0                      21.0   \n",
       "1                  2.0                       2.0   \n",
       "8                  6.0                      18.0   \n",
       "14                 6.0                       8.0   \n",
       "15                 5.0                       7.0   \n",
       "16                 1.0                       1.0   \n",
       "17                 4.0                       3.0   \n",
       "18                 9.0                      12.0   \n",
       "19                24.0                      26.0   \n",
       "20                13.0                      11.0   \n",
       "\n",
       "    estimated_order_place_duration  \\\n",
       "0                              446   \n",
       "1                              446   \n",
       "8                              446   \n",
       "14                             446   \n",
       "15                             446   \n",
       "16                             446   \n",
       "17                             446   \n",
       "18                             446   \n",
       "19                             446   \n",
       "20                             446   \n",
       "\n",
       "    estimated_store_to_consumer_driving_duration  \n",
       "0                                          861.0  \n",
       "1                                          690.0  \n",
       "8                                          289.0  \n",
       "14                                         795.0  \n",
       "15                                         205.0  \n",
       "16                                         542.0  \n",
       "17                                         789.0  \n",
       "18                                         548.0  \n",
       "19                                         212.0  \n",
       "20                                         424.0  "
      ]
     },
     "execution_count": 6,
     "metadata": {},
     "output_type": "execute_result"
    }
   ],
   "source": [
    "historical_data.head(10)"
   ]
  },
  {
   "cell_type": "markdown",
   "id": "eb1ce275",
   "metadata": {},
   "source": [
    "### 1.3 Calculating the target variable values - \"Actual Total Delivery Duration\""
   ]
  },
  {
   "cell_type": "code",
   "execution_count": 7,
   "id": "c5bb67f9",
   "metadata": {},
   "outputs": [],
   "source": [
    "historical_data[\"created_at\"] = pd.to_datetime(historical_data['created_at'])\n",
    "historical_data[\"actual_delivery_time\"] = pd.to_datetime(historical_data['actual_delivery_time'])\n",
    "historical_data[\"actual_total_delivery_duration\"] = (historical_data[\"actual_delivery_time\"] - historical_data[\"created_at\"]).dt.total_seconds()"
   ]
  },
  {
   "cell_type": "code",
   "execution_count": 8,
   "id": "8ed48dac",
   "metadata": {},
   "outputs": [
    {
     "data": {
      "text/plain": [
       "(array([1.1464e+04, 2.5722e+04, 3.2896e+04, 2.3693e+04, 1.3248e+04,\n",
       "        6.0780e+03, 1.2230e+03, 9.0000e+00, 2.0000e+00, 0.0000e+00,\n",
       "        0.0000e+00, 0.0000e+00, 0.0000e+00, 0.0000e+00, 3.8000e+01,\n",
       "        5.0200e+02, 1.9360e+03, 3.0580e+03, 4.5140e+03, 1.2083e+04,\n",
       "        1.3883e+04, 1.0219e+04, 7.8750e+03, 7.3340e+03]),\n",
       " array([ 0.        ,  0.95833333,  1.91666667,  2.875     ,  3.83333333,\n",
       "         4.79166667,  5.75      ,  6.70833333,  7.66666667,  8.625     ,\n",
       "         9.58333333, 10.54166667, 11.5       , 12.45833333, 13.41666667,\n",
       "        14.375     , 15.33333333, 16.29166667, 17.25      , 18.20833333,\n",
       "        19.16666667, 20.125     , 21.08333333, 22.04166667, 23.        ]),\n",
       " <BarContainer object of 24 artists>)"
      ]
     },
     "execution_count": 8,
     "metadata": {},
     "output_type": "execute_result"
    },
    {
     "data": {
      "image/png": "[encoded data removed]",
      "text/plain": [
       "<Figure size 432x288 with 1 Axes>"
      ]
     },
     "metadata": {
      "needs_background": "light"
     },
     "output_type": "display_data"
    }
   ],
   "source": [
    "historical_data[\"hour_of_order\"] = historical_data['created_at'].dt.hour\n",
    "plt.hist(historical_data[\"hour_of_order\"], bins = 24)"
   ]
  },
  {
   "cell_type": "code",
   "execution_count": 9,
   "id": "ad5add63",
   "metadata": {},
   "outputs": [
    {
     "data": {
      "text/plain": [
       "(array([0.000e+00, 1.000e+00, 2.000e+00, 5.000e+00, 3.000e+00, 1.300e+01,\n",
       "        2.500e+01, 6.800e+01, 1.730e+02, 3.610e+02, 6.230e+02, 1.012e+03,\n",
       "        1.594e+03, 2.236e+03, 2.913e+03, 3.892e+03, 4.601e+03, 5.458e+03,\n",
       "        6.096e+03, 6.939e+03, 7.492e+03, 7.726e+03, 7.976e+03, 7.969e+03,\n",
       "        8.137e+03, 7.804e+03, 7.576e+03, 7.311e+03, 6.860e+03, 6.381e+03,\n",
       "        6.097e+03, 5.549e+03, 5.086e+03, 4.585e+03, 4.332e+03, 3.908e+03,\n",
       "        3.584e+03, 3.216e+03, 2.948e+03, 2.572e+03, 2.343e+03, 2.103e+03,\n",
       "        1.946e+03, 1.708e+03, 1.493e+03, 1.404e+03, 1.158e+03, 1.056e+03,\n",
       "        9.550e+02, 8.510e+02, 8.170e+02, 6.990e+02, 5.820e+02, 5.410e+02,\n",
       "        5.210e+02, 4.220e+02, 4.160e+02, 3.500e+02, 3.120e+02, 2.540e+02,\n",
       "        2.150e+02, 1.980e+02, 2.190e+02, 1.990e+02, 1.680e+02, 1.460e+02,\n",
       "        1.410e+02, 1.270e+02, 1.020e+02, 8.000e+01, 8.600e+01, 6.800e+01,\n",
       "        6.300e+01, 6.500e+01, 6.000e+01, 5.600e+01, 4.700e+01, 5.000e+01,\n",
       "        4.100e+01, 4.500e+01, 4.300e+01, 2.600e+01, 3.000e+01, 3.000e+01,\n",
       "        2.400e+01, 2.200e+01, 2.200e+01, 1.500e+01, 1.800e+01, 2.300e+01,\n",
       "        2.300e+01, 1.000e+01, 1.600e+01, 1.100e+01, 1.500e+01, 1.000e+01,\n",
       "        1.200e+01, 1.000e+01, 8.000e+00, 7.000e+00]),\n",
       " array([    0.,   100.,   200.,   300.,   400.,   500.,   600.,   700.,\n",
       "          800.,   900.,  1000.,  1100.,  1200.,  1300.,  1400.,  1500.,\n",
       "         1600.,  1700.,  1800.,  1900.,  2000.,  2100.,  2200.,  2300.,\n",
       "         2400.,  2500.,  2600.,  2700.,  2800.,  2900.,  3000.,  3100.,\n",
       "         3200.,  3300.,  3400.,  3500.,  3600.,  3700.,  3800.,  3900.,\n",
       "         4000.,  4100.,  4200.,  4300.,  4400.,  4500.,  4600.,  4700.,\n",
       "         4800.,  4900.,  5000.,  5100.,  5200.,  5300.,  5400.,  5500.,\n",
       "         5600.,  5700.,  5800.,  5900.,  6000.,  6100.,  6200.,  6300.,\n",
       "         6400.,  6500.,  6600.,  6700.,  6800.,  6900.,  7000.,  7100.,\n",
       "         7200.,  7300.,  7400.,  7500.,  7600.,  7700.,  7800.,  7900.,\n",
       "         8000.,  8100.,  8200.,  8300.,  8400.,  8500.,  8600.,  8700.,\n",
       "         8800.,  8900.,  9000.,  9100.,  9200.,  9300.,  9400.,  9500.,\n",
       "         9600.,  9700.,  9800.,  9900., 10000.]),\n",
       " <BarContainer object of 100 artists>)"
      ]
     },
     "execution_count": 9,
     "metadata": {},
     "output_type": "execute_result"
    },
    {
     "data": {
      "image/png": "[encoded data removed]",
      "text/plain": [
       "<Figure size 432x288 with 1 Axes>"
      ]
     },
     "metadata": {
      "needs_background": "light"
     },
     "output_type": "display_data"
    }
   ],
   "source": [
    "plt.hist(historical_data[\"actual_total_delivery_duration\"], bins=100, range=(0,10000))"
   ]
  },
  {
   "cell_type": "code",
   "execution_count": 10,
   "id": "0200c152",
   "metadata": {},
   "outputs": [
    {
     "data": {
      "text/plain": [
       "63294        101.0\n",
       "862          223.0\n",
       "30562        297.0\n",
       "42507        321.0\n",
       "117928       325.0\n",
       "            ...   \n",
       "86952      48178.0\n",
       "190860     54447.0\n",
       "83055      57032.0\n",
       "27189     332482.0\n",
       "185550    373879.0\n",
       "Name: actual_total_delivery_duration, Length: 175777, dtype: float64"
      ]
     },
     "execution_count": 10,
     "metadata": {},
     "output_type": "execute_result"
    }
   ],
   "source": [
    "historical_data[\"actual_total_delivery_duration\"].sort_values()"
   ]
  },
  {
   "cell_type": "markdown",
   "id": "42dbaf2d",
   "metadata": {},
   "source": [
    "### 1.4 Dropping the outliers"
   ]
  },
  {
   "cell_type": "code",
   "execution_count": 11,
   "id": "6aedf9de",
   "metadata": {},
   "outputs": [],
   "source": [
    "historical_data.drop(historical_data[historical_data[\"actual_total_delivery_duration\"]>8000].index, inplace=True)"
   ]
  },
  {
   "cell_type": "code",
   "execution_count": 12,
   "id": "f96f98fe",
   "metadata": {},
   "outputs": [
    {
     "data": {
      "text/plain": [
       "6865    922\n",
       "1311    848\n",
       "314     804\n",
       "1686    754\n",
       "3937    710\n",
       "       ... \n",
       "6711      1\n",
       "6896      1\n",
       "2802      1\n",
       "3369      1\n",
       "4075      1\n",
       "Name: store_id, Length: 5640, dtype: int64"
      ]
     },
     "execution_count": 12,
     "metadata": {},
     "output_type": "execute_result"
    }
   ],
   "source": [
    "historical_data['store_id'].value_counts()"
   ]
  },
  {
   "cell_type": "code",
   "execution_count": 13,
   "id": "af2c8318",
   "metadata": {},
   "outputs": [
    {
     "data": {
      "text/plain": [
       "5640"
      ]
     },
     "execution_count": 13,
     "metadata": {},
     "output_type": "execute_result"
    }
   ],
   "source": [
    "historical_data['store_id'].nunique()"
   ]
  },
  {
   "cell_type": "code",
   "execution_count": 14,
   "id": "12ec01ff",
   "metadata": {},
   "outputs": [],
   "source": [
    "primary_cat = historical_data['store_primary_category'].value_counts()"
   ]
  },
  {
   "cell_type": "markdown",
   "id": "b268f3e9",
   "metadata": {},
   "source": [
    "### 1.5 Decreasing the number of categories of food"
   ]
  },
  {
   "cell_type": "code",
   "execution_count": 15,
   "id": "06821ecf",
   "metadata": {},
   "outputs": [
    {
     "data": {
      "text/plain": [
       "73"
      ]
     },
     "execution_count": 15,
     "metadata": {},
     "output_type": "execute_result"
    }
   ],
   "source": [
    "historical_data['store_primary_category'].nunique()"
   ]
  },
  {
   "cell_type": "code",
   "execution_count": 16,
   "id": "6487f168",
   "metadata": {},
   "outputs": [],
   "source": [
    "convert = primary_cat[40:]\n",
    "historical_data['store_primary_category'] = historical_data['store_primary_category'].apply(lambda x: 'other' if x in convert else x)"
   ]
  },
  {
   "cell_type": "code",
   "execution_count": 17,
   "id": "ae019e02",
   "metadata": {
    "scrolled": true
   },
   "outputs": [
    {
     "data": {
      "text/plain": [
       "american             18135\n",
       "pizza                15694\n",
       "mexican              15555\n",
       "burger                9881\n",
       "sandwich              8971\n",
       "chinese               8526\n",
       "japanese              8187\n",
       "dessert               8051\n",
       "other                 6876\n",
       "italian               6719\n",
       "fast                  6476\n",
       "indian                6358\n",
       "thai                  6203\n",
       "vietnamese            5559\n",
       "mediterranean         5111\n",
       "breakfast             4831\n",
       "salad                 3462\n",
       "greek                 2949\n",
       "barbecue              2670\n",
       "seafood               2583\n",
       "asian                 2214\n",
       "sushi                 2094\n",
       "cafe                  2018\n",
       "alcohol               1739\n",
       "korean                1690\n",
       "catering              1544\n",
       "smoothie              1520\n",
       "middle-eastern        1453\n",
       "hawaiian              1447\n",
       "steak                 1029\n",
       "dim-sum                991\n",
       "vegetarian             753\n",
       "burmese                638\n",
       "pasta                  624\n",
       "persian                573\n",
       "french                 556\n",
       "latin-american         489\n",
       "bubble-tea             427\n",
       "convenience-store      325\n",
       "cajun                  310\n",
       "Name: store_primary_category, dtype: int64"
      ]
     },
     "execution_count": 17,
     "metadata": {},
     "output_type": "execute_result"
    }
   ],
   "source": [
    "historical_data['store_primary_category'].value_counts()"
   ]
  },
  {
   "cell_type": "code",
   "execution_count": 18,
   "id": "c7c600d4",
   "metadata": {},
   "outputs": [
    {
     "data": {
      "text/plain": [
       "(array([84385., 57619., 20292.,  7188.,  2780.,  1312.,   642.,   370.,\n",
       "          215.,   115.]),\n",
       " array([ 1. ,  2.9,  4.8,  6.7,  8.6, 10.5, 12.4, 14.3, 16.2, 18.1, 20. ]),\n",
       " <BarContainer object of 10 artists>)"
      ]
     },
     "execution_count": 18,
     "metadata": {},
     "output_type": "execute_result"
    },
    {
     "data": {
      "image/png": "[encoded data removed]",
      "text/plain": [
       "<Figure size 432x288 with 1 Axes>"
      ]
     },
     "metadata": {
      "needs_background": "light"
     },
     "output_type": "display_data"
    }
   ],
   "source": [
    "plt.hist(historical_data['total_items'], bins = 10, range = (1,20))"
   ]
  },
  {
   "cell_type": "code",
   "execution_count": 19,
   "id": "e5c357d1",
   "metadata": {},
   "outputs": [
    {
     "data": {
      "text/plain": [
       "(array([ 2224., 20739., 29939., 27196., 22495., 18396., 13816., 10430.,\n",
       "         7537.,  5620.,  3971.,  2971.,  2176.,  1733.,  1238.,  1013.,\n",
       "          767.,   621.,   480.,   375.]),\n",
       " array([  100.,   595.,  1090.,  1585.,  2080.,  2575.,  3070.,  3565.,\n",
       "         4060.,  4555.,  5050.,  5545.,  6040.,  6535.,  7030.,  7525.,\n",
       "         8020.,  8515.,  9010.,  9505., 10000.]),\n",
       " <BarContainer object of 20 artists>)"
      ]
     },
     "execution_count": 19,
     "metadata": {},
     "output_type": "execute_result"
    },
    {
     "data": {
      "image/png": "[encoded data removed]",
      "text/plain": [
       "<Figure size 432x288 with 1 Axes>"
      ]
     },
     "metadata": {
      "needs_background": "light"
     },
     "output_type": "display_data"
    }
   ],
   "source": [
    "plt.hist(historical_data['subtotal'], bins = 20, range = (100,10000))"
   ]
  },
  {
   "cell_type": "code",
   "execution_count": 20,
   "id": "34138ea5",
   "metadata": {},
   "outputs": [
    {
     "data": {
      "text/plain": [
       "(array([9.6426e+04, 5.8032e+04, 1.5552e+04, 3.8450e+03, 9.9400e+02,\n",
       "        2.8000e+02, 7.7000e+01, 1.8000e+01, 5.0000e+00, 2.0000e+00]),\n",
       " array([ 1. ,  2.9,  4.8,  6.7,  8.6, 10.5, 12.4, 14.3, 16.2, 18.1, 20. ]),\n",
       " <BarContainer object of 10 artists>)"
      ]
     },
     "execution_count": 20,
     "metadata": {},
     "output_type": "execute_result"
    },
    {
     "data": {
      "image/png": "[encoded data removed]",
      "text/plain": [
       "<Figure size 432x288 with 1 Axes>"
      ]
     },
     "metadata": {
      "needs_background": "light"
     },
     "output_type": "display_data"
    }
   ],
   "source": [
    "plt.hist(historical_data['num_distinct_items'], bins = 10, range = (1,20))"
   ]
  },
  {
   "cell_type": "markdown",
   "id": "50d01701",
   "metadata": {},
   "source": [
    "### 1.6 Creating new columns "
   ]
  },
  {
   "cell_type": "code",
   "execution_count": 21,
   "id": "05936f3d",
   "metadata": {},
   "outputs": [],
   "source": [
    "historical_data['total_available_dashers'] = historical_data['total_onshift_dashers'] - historical_data['total_busy_dashers']"
   ]
  },
  {
   "cell_type": "code",
   "execution_count": 22,
   "id": "1fa9f02d",
   "metadata": {},
   "outputs": [
    {
     "data": {
      "text/plain": [
       "39125"
      ]
     },
     "execution_count": 22,
     "metadata": {},
     "output_type": "execute_result"
    }
   ],
   "source": [
    "len(historical_data[historical_data['total_available_dashers']<0])"
   ]
  },
  {
   "cell_type": "code",
   "execution_count": 23,
   "id": "2f5470f9",
   "metadata": {},
   "outputs": [],
   "source": [
    "historical_data = historical_data.drop(columns = ['created_at', 'actual_delivery_time', 'store_id', 'total_onshift_dashers', 'total_busy_dashers'])"
   ]
  },
  {
   "cell_type": "markdown",
   "id": "f2505d2b",
   "metadata": {},
   "source": [
    "### 1.7 Creating Dummy Variables"
   ]
  },
  {
   "cell_type": "code",
   "execution_count": 24,
   "id": "e762055c",
   "metadata": {},
   "outputs": [],
   "source": [
    "market_id_dummies = pd.get_dummies(historical_data.market_id)\n",
    "market_id_dummies = market_id_dummies.add_prefix('market_id_')"
   ]
  },
  {
   "cell_type": "code",
   "execution_count": 25,
   "id": "715842e0",
   "metadata": {},
   "outputs": [],
   "source": [
    "category_dummies = pd.get_dummies(historical_data.store_primary_category)\n",
    "category_dummies = category_dummies.add_prefix('category_')"
   ]
  },
  {
   "cell_type": "code",
   "execution_count": 26,
   "id": "a02c6ff2",
   "metadata": {},
   "outputs": [],
   "source": [
    "order_protocol_dummies = pd.get_dummies(historical_data.order_protocol)\n",
    "order_protocol_dummies = order_protocol_dummies.add_prefix('order_protocol_')"
   ]
  },
  {
   "cell_type": "code",
   "execution_count": 27,
   "id": "7e05e02d",
   "metadata": {},
   "outputs": [],
   "source": [
    "hour_dummies = pd.get_dummies(historical_data.hour_of_order)\n",
    "hour_dummies = hour_dummies.add_prefix('hour_')"
   ]
  },
  {
   "cell_type": "code",
   "execution_count": 28,
   "id": "910b9a1c",
   "metadata": {},
   "outputs": [],
   "source": [
    "final_df = pd.concat([historical_data, market_id_dummies, category_dummies, order_protocol_dummies, hour_dummies], axis=1)"
   ]
  },
  {
   "cell_type": "code",
   "execution_count": 29,
   "id": "b881f222",
   "metadata": {},
   "outputs": [
    {
     "name": "stdout",
     "output_type": "stream",
     "text": [
      "<class 'pandas.core.frame.DataFrame'>\n",
      "Int64Index: 175231 entries, 0 to 197427\n",
      "Data columns (total 85 columns):\n",
      " #   Column                                        Non-Null Count   Dtype  \n",
      "---  ------                                        --------------   -----  \n",
      " 0   market_id                                     175231 non-null  float64\n",
      " 1   store_primary_category                        175231 non-null  object \n",
      " 2   order_protocol                                175231 non-null  float64\n",
      " 3   total_items                                   175231 non-null  int64  \n",
      " 4   subtotal                                      175231 non-null  int64  \n",
      " 5   num_distinct_items                            175231 non-null  int64  \n",
      " 6   min_item_price                                175231 non-null  int64  \n",
      " 7   max_item_price                                175231 non-null  int64  \n",
      " 8   total_outstanding_orders                      175231 non-null  float64\n",
      " 9   estimated_order_place_duration                175231 non-null  int64  \n",
      " 10  estimated_store_to_consumer_driving_duration  175231 non-null  float64\n",
      " 11  actual_total_delivery_duration                175231 non-null  float64\n",
      " 12  hour_of_order                                 175231 non-null  int64  \n",
      " 13  total_available_dashers                       175231 non-null  float64\n",
      " 14  market_id_1.0                                 175231 non-null  uint8  \n",
      " 15  market_id_2.0                                 175231 non-null  uint8  \n",
      " 16  market_id_3.0                                 175231 non-null  uint8  \n",
      " 17  market_id_4.0                                 175231 non-null  uint8  \n",
      " 18  market_id_5.0                                 175231 non-null  uint8  \n",
      " 19  market_id_6.0                                 175231 non-null  uint8  \n",
      " 20  category_alcohol                              175231 non-null  uint8  \n",
      " 21  category_american                             175231 non-null  uint8  \n",
      " 22  category_asian                                175231 non-null  uint8  \n",
      " 23  category_barbecue                             175231 non-null  uint8  \n",
      " 24  category_breakfast                            175231 non-null  uint8  \n",
      " 25  category_bubble-tea                           175231 non-null  uint8  \n",
      " 26  category_burger                               175231 non-null  uint8  \n",
      " 27  category_burmese                              175231 non-null  uint8  \n",
      " 28  category_cafe                                 175231 non-null  uint8  \n",
      " 29  category_cajun                                175231 non-null  uint8  \n",
      " 30  category_catering                             175231 non-null  uint8  \n",
      " 31  category_chinese                              175231 non-null  uint8  \n",
      " 32  category_convenience-store                    175231 non-null  uint8  \n",
      " 33  category_dessert                              175231 non-null  uint8  \n",
      " 34  category_dim-sum                              175231 non-null  uint8  \n",
      " 35  category_fast                                 175231 non-null  uint8  \n",
      " 36  category_french                               175231 non-null  uint8  \n",
      " 37  category_greek                                175231 non-null  uint8  \n",
      " 38  category_hawaiian                             175231 non-null  uint8  \n",
      " 39  category_indian                               175231 non-null  uint8  \n",
      " 40  category_italian                              175231 non-null  uint8  \n",
      " 41  category_japanese                             175231 non-null  uint8  \n",
      " 42  category_korean                               175231 non-null  uint8  \n",
      " 43  category_latin-american                       175231 non-null  uint8  \n",
      " 44  category_mediterranean                        175231 non-null  uint8  \n",
      " 45  category_mexican                              175231 non-null  uint8  \n",
      " 46  category_middle-eastern                       175231 non-null  uint8  \n",
      " 47  category_other                                175231 non-null  uint8  \n",
      " 48  category_pasta                                175231 non-null  uint8  \n",
      " 49  category_persian                              175231 non-null  uint8  \n",
      " 50  category_pizza                                175231 non-null  uint8  \n",
      " 51  category_salad                                175231 non-null  uint8  \n",
      " 52  category_sandwich                             175231 non-null  uint8  \n",
      " 53  category_seafood                              175231 non-null  uint8  \n",
      " 54  category_smoothie                             175231 non-null  uint8  \n",
      " 55  category_steak                                175231 non-null  uint8  \n",
      " 56  category_sushi                                175231 non-null  uint8  \n",
      " 57  category_thai                                 175231 non-null  uint8  \n",
      " 58  category_vegetarian                           175231 non-null  uint8  \n",
      " 59  category_vietnamese                           175231 non-null  uint8  \n",
      " 60  order_protocol_1.0                            175231 non-null  uint8  \n",
      " 61  order_protocol_2.0                            175231 non-null  uint8  \n",
      " 62  order_protocol_3.0                            175231 non-null  uint8  \n",
      " 63  order_protocol_4.0                            175231 non-null  uint8  \n",
      " 64  order_protocol_5.0                            175231 non-null  uint8  \n",
      " 65  order_protocol_6.0                            175231 non-null  uint8  \n",
      " 66  order_protocol_7.0                            175231 non-null  uint8  \n",
      " 67  hour_0                                        175231 non-null  uint8  \n",
      " 68  hour_1                                        175231 non-null  uint8  \n",
      " 69  hour_2                                        175231 non-null  uint8  \n",
      " 70  hour_3                                        175231 non-null  uint8  \n",
      " 71  hour_4                                        175231 non-null  uint8  \n",
      " 72  hour_5                                        175231 non-null  uint8  \n",
      " 73  hour_6                                        175231 non-null  uint8  \n",
      " 74  hour_7                                        175231 non-null  uint8  \n",
      " 75  hour_14                                       175231 non-null  uint8  \n",
      " 76  hour_15                                       175231 non-null  uint8  \n",
      " 77  hour_16                                       175231 non-null  uint8  \n",
      " 78  hour_17                                       175231 non-null  uint8  \n",
      " 79  hour_18                                       175231 non-null  uint8  \n",
      " 80  hour_19                                       175231 non-null  uint8  \n",
      " 81  hour_20                                       175231 non-null  uint8  \n",
      " 82  hour_21                                       175231 non-null  uint8  \n",
      " 83  hour_22                                       175231 non-null  uint8  \n",
      " 84  hour_23                                       175231 non-null  uint8  \n",
      "dtypes: float64(6), int64(7), object(1), uint8(71)\n",
      "memory usage: 31.9+ MB\n"
     ]
    }
   ],
   "source": [
    "final_df.info()"
   ]
  },
  {
   "cell_type": "code",
   "execution_count": 30,
   "id": "e1677d3e",
   "metadata": {},
   "outputs": [],
   "source": [
    "final_df = final_df.drop(columns = ['store_primary_category', 'order_protocol', 'market_id', 'hour_of_order'])"
   ]
  },
  {
   "cell_type": "markdown",
   "id": "b6f7edd5",
   "metadata": {},
   "source": [
    "### 1.8 Collinearity"
   ]
  },
  {
   "cell_type": "code",
   "execution_count": 31,
   "id": "6719f7fa",
   "metadata": {},
   "outputs": [],
   "source": [
    "corr = final_df.corr()"
   ]
  },
  {
   "cell_type": "code",
   "execution_count": 32,
   "id": "f4aa07c8",
   "metadata": {},
   "outputs": [],
   "source": [
    "mask = np.triu(np.ones_like(corr, dtype=bool))"
   ]
  },
  {
   "cell_type": "code",
   "execution_count": 33,
   "id": "9bc1df81",
   "metadata": {},
   "outputs": [
    {
     "data": {
      "text/plain": [
       "<AxesSubplot:>"
      ]
     },
     "execution_count": 33,
     "metadata": {},
     "output_type": "execute_result"
    },
    {
     "data": {
      "image/png": "[encoded data removed]",
      "text/plain": [
       "<Figure size 792x648 with 2 Axes>"
      ]
     },
     "metadata": {
      "needs_background": "light"
     },
     "output_type": "display_data"
    }
   ],
   "source": [
    "f, ax = plt.subplots(figsize=(11, 9))\n",
    "cmap = sns.diverging_palette(230, 20, as_cmap=True)\n",
    "sns.heatmap(corr, mask=mask, cmap=cmap, vmax=.3, center=0, square=True, linewidths=.5, cbar_kws={\"shrink\": .5})"
   ]
  },
  {
   "cell_type": "code",
   "execution_count": 34,
   "id": "f7148ccd",
   "metadata": {},
   "outputs": [
    {
     "data": {
      "text/plain": [
       "total_items                     total_items                       1.000000\n",
       "estimated_order_place_duration  order_protocol_1.0                0.900299\n",
       "total_items                     num_distinct_items                0.758043\n",
       "subtotal                        num_distinct_items                0.680874\n",
       "                                total_items                       0.554702\n",
       "min_item_price                  max_item_price                    0.540671\n",
       "subtotal                        max_item_price                    0.509695\n",
       "order_protocol_4.0              category_fast                     0.500683\n",
       "min_item_price                  num_distinct_items                0.446896\n",
       "market_id_2.0                   market_id_4.0                     0.395441\n",
       "total_items                     min_item_price                    0.389630\n",
       "order_protocol_1.0              order_protocol_3.0                0.373235\n",
       "estimated_order_place_duration  order_protocol_3.0                0.363468\n",
       "order_protocol_1.0              order_protocol_5.0                0.342373\n",
       "market_id_2.0                   market_id_1.0                     0.341755\n",
       "order_protocol_3.0              order_protocol_5.0                0.336335\n",
       "hour_2                          total_outstanding_orders          0.336319\n",
       "order_protocol_5.0              estimated_order_place_duration    0.332745\n",
       "market_id_1.0                   market_id_4.0                     0.308644\n",
       "total_outstanding_orders        market_id_2.0                     0.295956\n",
       "dtype: float64"
      ]
     },
     "execution_count": 34,
     "metadata": {},
     "output_type": "execute_result"
    }
   ],
   "source": [
    "corr.abs().unstack().sort_values(ascending = False).drop_duplicates().head(20)"
   ]
  },
  {
   "cell_type": "code",
   "execution_count": 35,
   "id": "4be5436d",
   "metadata": {},
   "outputs": [],
   "source": [
    "final_df['ratio_of_items'] = final_df['num_distinct_items']/final_df['total_items']"
   ]
  },
  {
   "cell_type": "code",
   "execution_count": 36,
   "id": "2291e207",
   "metadata": {},
   "outputs": [],
   "source": [
    "final_df['average_price'] = (final_df['min_item_price'] + final_df['max_item_price'])/2"
   ]
  },
  {
   "cell_type": "code",
   "execution_count": 37,
   "id": "058a12e0",
   "metadata": {},
   "outputs": [],
   "source": [
    "final_df[\"avg_price_per_item\"] = final_df[\"subtotal\"] / final_df[\"total_items\"]"
   ]
  },
  {
   "cell_type": "code",
   "execution_count": 38,
   "id": "ee59bdd8",
   "metadata": {},
   "outputs": [
    {
     "data": {
      "text/plain": [
       "total_items                     total_items                       1.000000\n",
       "avg_price_per_item              average_price                     0.926523\n",
       "order_protocol_1.0              estimated_order_place_duration    0.900299\n",
       "max_item_price                  average_price                     0.887450\n",
       "average_price                   min_item_price                    0.867546\n",
       "avg_price_per_item              min_item_price                    0.860059\n",
       "                                max_item_price                    0.770109\n",
       "num_distinct_items              total_items                       0.758043\n",
       "subtotal                        num_distinct_items                0.680874\n",
       "total_items                     subtotal                          0.554702\n",
       "max_item_price                  min_item_price                    0.540671\n",
       "subtotal                        max_item_price                    0.509695\n",
       "order_protocol_4.0              category_fast                     0.500683\n",
       "num_distinct_items              min_item_price                    0.446896\n",
       "ratio_of_items                  total_items                       0.444523\n",
       "market_id_4.0                   market_id_2.0                     0.395441\n",
       "total_items                     min_item_price                    0.389630\n",
       "order_protocol_3.0              order_protocol_1.0                0.373235\n",
       "estimated_order_place_duration  order_protocol_3.0                0.363468\n",
       "order_protocol_5.0              order_protocol_1.0                0.342373\n",
       "dtype: float64"
      ]
     },
     "execution_count": 38,
     "metadata": {},
     "output_type": "execute_result"
    }
   ],
   "source": [
    "corr = final_df.corr()\n",
    "corr.abs().unstack().sort_values(ascending = False).drop_duplicates().head(20)"
   ]
  },
  {
   "cell_type": "code",
   "execution_count": 39,
   "id": "77dcffd9",
   "metadata": {},
   "outputs": [],
   "source": [
    "final_df.drop(columns=['min_item_price', 'max_item_price', 'avg_price_per_item', 'num_distinct_items'], inplace=True)"
   ]
  },
  {
   "cell_type": "code",
   "execution_count": 40,
   "id": "a6de83e1",
   "metadata": {},
   "outputs": [
    {
     "data": {
      "text/plain": [
       "total_items                     total_items                       1.000000\n",
       "order_protocol_1.0              estimated_order_place_duration    0.900299\n",
       "total_items                     subtotal                          0.554702\n",
       "category_fast                   order_protocol_4.0                0.500683\n",
       "ratio_of_items                  total_items                       0.444523\n",
       "market_id_2.0                   market_id_4.0                     0.395441\n",
       "order_protocol_3.0              order_protocol_1.0                0.373235\n",
       "                                estimated_order_place_duration    0.363468\n",
       "order_protocol_5.0              order_protocol_1.0                0.342373\n",
       "market_id_1.0                   market_id_2.0                     0.341755\n",
       "order_protocol_3.0              order_protocol_5.0                0.336335\n",
       "hour_2                          total_outstanding_orders          0.336319\n",
       "estimated_order_place_duration  order_protocol_5.0                0.332745\n",
       "subtotal                        average_price                     0.322380\n",
       "market_id_4.0                   market_id_1.0                     0.308644\n",
       "market_id_2.0                   total_outstanding_orders          0.295956\n",
       "market_id_4.0                   total_outstanding_orders          0.278453\n",
       "market_id_1.0                   total_outstanding_orders          0.273766\n",
       "market_id_3.0                   total_outstanding_orders          0.269396\n",
       "hour_3                          total_outstanding_orders          0.263575\n",
       "dtype: float64"
      ]
     },
     "execution_count": 40,
     "metadata": {},
     "output_type": "execute_result"
    }
   ],
   "source": [
    "corr = final_df.corr()\n",
    "corr.abs().unstack().sort_values(ascending = False).drop_duplicates().head(20)"
   ]
  },
  {
   "cell_type": "code",
   "execution_count": 41,
   "id": "271c0e51",
   "metadata": {
    "scrolled": true
   },
   "outputs": [],
   "source": [
    "final_df = final_df.astype(\"float32\")"
   ]
  },
  {
   "cell_type": "code",
   "execution_count": 42,
   "id": "6fc2ce68",
   "metadata": {},
   "outputs": [],
   "source": [
    "features = final_df.drop(columns=[\"actual_total_delivery_duration\"]).columns.to_list()"
   ]
  },
  {
   "cell_type": "markdown",
   "id": "a25f250d",
   "metadata": {},
   "source": [
    "## 2. Modelling"
   ]
  },
  {
   "cell_type": "markdown",
   "id": "defd35bb",
   "metadata": {},
   "source": [
    "### 2.1 Scaling"
   ]
  },
  {
   "cell_type": "code",
   "execution_count": 43,
   "id": "cdfb06c8",
   "metadata": {},
   "outputs": [],
   "source": [
    "from sklearn.preprocessing import MinMaxScaler, StandardScaler\n",
    "from sklearn.model_selection import train_test_split"
   ]
  },
  {
   "cell_type": "code",
   "execution_count": 44,
   "id": "b9ba6136",
   "metadata": {},
   "outputs": [],
   "source": [
    "X = final_df[features]\n",
    "y = final_df[\"actual_total_delivery_duration\"]"
   ]
  },
  {
   "cell_type": "code",
   "execution_count": 45,
   "id": "45698bb9",
   "metadata": {},
   "outputs": [],
   "source": [
    "scaler = MinMaxScaler()\n",
    "scaler_fit = scaler.fit(final_df)\n",
    "scaled = scaler_fit.transform(final_df)\n",
    "scaled_df = pd.DataFrame(scaled, columns = final_df.columns)"
   ]
  },
  {
   "cell_type": "code",
   "execution_count": 46,
   "id": "396f0fa0",
   "metadata": {},
   "outputs": [
    {
     "data": {
      "text/html": [
       "<div>\n",
       "<style scoped>\n",
       "    .dataframe tbody tr th:only-of-type {\n",
       "        vertical-align: middle;\n",
       "    }\n",
       "\n",
       "    .dataframe tbody tr th {\n",
       "        vertical-align: top;\n",
       "    }\n",
       "\n",
       "    .dataframe thead th {\n",
       "        text-align: right;\n",
       "    }\n",
       "</style>\n",
       "<table border=\"1\" class=\"dataframe\">\n",
       "  <thead>\n",
       "    <tr style=\"text-align: right;\">\n",
       "      <th></th>\n",
       "      <th>total_items</th>\n",
       "      <th>subtotal</th>\n",
       "      <th>total_outstanding_orders</th>\n",
       "      <th>estimated_order_place_duration</th>\n",
       "      <th>estimated_store_to_consumer_driving_duration</th>\n",
       "      <th>actual_total_delivery_duration</th>\n",
       "      <th>total_available_dashers</th>\n",
       "      <th>market_id_1.0</th>\n",
       "      <th>market_id_2.0</th>\n",
       "      <th>market_id_3.0</th>\n",
       "      <th>...</th>\n",
       "      <th>hour_16</th>\n",
       "      <th>hour_17</th>\n",
       "      <th>hour_18</th>\n",
       "      <th>hour_19</th>\n",
       "      <th>hour_20</th>\n",
       "      <th>hour_21</th>\n",
       "      <th>hour_22</th>\n",
       "      <th>hour_23</th>\n",
       "      <th>ratio_of_items</th>\n",
       "      <th>average_price</th>\n",
       "    </tr>\n",
       "  </thead>\n",
       "  <tbody>\n",
       "    <tr>\n",
       "      <th>0</th>\n",
       "      <td>0.007317</td>\n",
       "      <td>0.128396</td>\n",
       "      <td>0.092784</td>\n",
       "      <td>0.164273</td>\n",
       "      <td>0.495112</td>\n",
       "      <td>0.465864</td>\n",
       "      <td>0.553333</td>\n",
       "      <td>1.0</td>\n",
       "      <td>0.0</td>\n",
       "      <td>0.0</td>\n",
       "      <td>...</td>\n",
       "      <td>0.0</td>\n",
       "      <td>0.0</td>\n",
       "      <td>0.0</td>\n",
       "      <td>0.0</td>\n",
       "      <td>0.0</td>\n",
       "      <td>0.0</td>\n",
       "      <td>1.0</td>\n",
       "      <td>0.0</td>\n",
       "      <td>1.000000</td>\n",
       "      <td>0.061088</td>\n",
       "    </tr>\n",
       "    <tr>\n",
       "      <th>1</th>\n",
       "      <td>0.000000</td>\n",
       "      <td>0.070896</td>\n",
       "      <td>0.027491</td>\n",
       "      <td>0.164273</td>\n",
       "      <td>0.396780</td>\n",
       "      <td>0.496897</td>\n",
       "      <td>0.420000</td>\n",
       "      <td>0.0</td>\n",
       "      <td>1.0</td>\n",
       "      <td>0.0</td>\n",
       "      <td>...</td>\n",
       "      <td>0.0</td>\n",
       "      <td>0.0</td>\n",
       "      <td>0.0</td>\n",
       "      <td>0.0</td>\n",
       "      <td>0.0</td>\n",
       "      <td>1.0</td>\n",
       "      <td>0.0</td>\n",
       "      <td>0.0</td>\n",
       "      <td>1.000000</td>\n",
       "      <td>0.095238</td>\n",
       "    </tr>\n",
       "    <tr>\n",
       "      <th>2</th>\n",
       "      <td>0.007317</td>\n",
       "      <td>0.178022</td>\n",
       "      <td>0.082474</td>\n",
       "      <td>0.164273</td>\n",
       "      <td>0.166187</td>\n",
       "      <td>0.188094</td>\n",
       "      <td>0.440000</td>\n",
       "      <td>0.0</td>\n",
       "      <td>1.0</td>\n",
       "      <td>0.0</td>\n",
       "      <td>...</td>\n",
       "      <td>0.0</td>\n",
       "      <td>0.0</td>\n",
       "      <td>0.0</td>\n",
       "      <td>0.0</td>\n",
       "      <td>0.0</td>\n",
       "      <td>0.0</td>\n",
       "      <td>0.0</td>\n",
       "      <td>0.0</td>\n",
       "      <td>0.746921</td>\n",
       "      <td>0.082449</td>\n",
       "    </tr>\n",
       "    <tr>\n",
       "      <th>3</th>\n",
       "      <td>0.000000</td>\n",
       "      <td>0.056903</td>\n",
       "      <td>0.048110</td>\n",
       "      <td>0.164273</td>\n",
       "      <td>0.457159</td>\n",
       "      <td>0.275111</td>\n",
       "      <td>0.420000</td>\n",
       "      <td>1.0</td>\n",
       "      <td>0.0</td>\n",
       "      <td>0.0</td>\n",
       "      <td>...</td>\n",
       "      <td>0.0</td>\n",
       "      <td>0.0</td>\n",
       "      <td>0.0</td>\n",
       "      <td>0.0</td>\n",
       "      <td>0.0</td>\n",
       "      <td>0.0</td>\n",
       "      <td>0.0</td>\n",
       "      <td>0.0</td>\n",
       "      <td>1.000000</td>\n",
       "      <td>0.103741</td>\n",
       "    </tr>\n",
       "    <tr>\n",
       "      <th>4</th>\n",
       "      <td>0.002439</td>\n",
       "      <td>0.135075</td>\n",
       "      <td>0.044674</td>\n",
       "      <td>0.164273</td>\n",
       "      <td>0.117884</td>\n",
       "      <td>0.365674</td>\n",
       "      <td>0.426667</td>\n",
       "      <td>1.0</td>\n",
       "      <td>0.0</td>\n",
       "      <td>0.0</td>\n",
       "      <td>...</td>\n",
       "      <td>0.0</td>\n",
       "      <td>0.0</td>\n",
       "      <td>0.0</td>\n",
       "      <td>0.0</td>\n",
       "      <td>0.0</td>\n",
       "      <td>0.0</td>\n",
       "      <td>0.0</td>\n",
       "      <td>0.0</td>\n",
       "      <td>1.000000</td>\n",
       "      <td>0.123129</td>\n",
       "    </tr>\n",
       "    <tr>\n",
       "      <th>...</th>\n",
       "      <td>...</td>\n",
       "      <td>...</td>\n",
       "      <td>...</td>\n",
       "      <td>...</td>\n",
       "      <td>...</td>\n",
       "      <td>...</td>\n",
       "      <td>...</td>\n",
       "      <td>...</td>\n",
       "      <td>...</td>\n",
       "      <td>...</td>\n",
       "      <td>...</td>\n",
       "      <td>...</td>\n",
       "      <td>...</td>\n",
       "      <td>...</td>\n",
       "      <td>...</td>\n",
       "      <td>...</td>\n",
       "      <td>...</td>\n",
       "      <td>...</td>\n",
       "      <td>...</td>\n",
       "      <td>...</td>\n",
       "      <td>...</td>\n",
       "    </tr>\n",
       "    <tr>\n",
       "      <th>175226</th>\n",
       "      <td>0.004878</td>\n",
       "      <td>0.051828</td>\n",
       "      <td>0.099656</td>\n",
       "      <td>0.092449</td>\n",
       "      <td>0.190339</td>\n",
       "      <td>0.482077</td>\n",
       "      <td>0.426667</td>\n",
       "      <td>1.0</td>\n",
       "      <td>0.0</td>\n",
       "      <td>0.0</td>\n",
       "      <td>...</td>\n",
       "      <td>0.0</td>\n",
       "      <td>0.0</td>\n",
       "      <td>0.0</td>\n",
       "      <td>0.0</td>\n",
       "      <td>0.0</td>\n",
       "      <td>0.0</td>\n",
       "      <td>0.0</td>\n",
       "      <td>0.0</td>\n",
       "      <td>1.000000</td>\n",
       "      <td>0.033810</td>\n",
       "    </tr>\n",
       "    <tr>\n",
       "      <th>175227</th>\n",
       "      <td>0.012195</td>\n",
       "      <td>0.112313</td>\n",
       "      <td>0.068729</td>\n",
       "      <td>0.092449</td>\n",
       "      <td>0.526164</td>\n",
       "      <td>0.415706</td>\n",
       "      <td>0.433333</td>\n",
       "      <td>1.0</td>\n",
       "      <td>0.0</td>\n",
       "      <td>0.0</td>\n",
       "      <td>...</td>\n",
       "      <td>0.0</td>\n",
       "      <td>0.0</td>\n",
       "      <td>0.0</td>\n",
       "      <td>0.0</td>\n",
       "      <td>0.0</td>\n",
       "      <td>0.0</td>\n",
       "      <td>0.0</td>\n",
       "      <td>0.0</td>\n",
       "      <td>0.662562</td>\n",
       "      <td>0.041837</td>\n",
       "    </tr>\n",
       "    <tr>\n",
       "      <th>175228</th>\n",
       "      <td>0.009756</td>\n",
       "      <td>0.068507</td>\n",
       "      <td>0.158076</td>\n",
       "      <td>0.092449</td>\n",
       "      <td>0.457159</td>\n",
       "      <td>0.368208</td>\n",
       "      <td>0.413333</td>\n",
       "      <td>1.0</td>\n",
       "      <td>0.0</td>\n",
       "      <td>0.0</td>\n",
       "      <td>...</td>\n",
       "      <td>0.0</td>\n",
       "      <td>0.0</td>\n",
       "      <td>0.0</td>\n",
       "      <td>0.0</td>\n",
       "      <td>0.0</td>\n",
       "      <td>0.0</td>\n",
       "      <td>0.0</td>\n",
       "      <td>0.0</td>\n",
       "      <td>0.595074</td>\n",
       "      <td>0.023776</td>\n",
       "    </tr>\n",
       "    <tr>\n",
       "      <th>175229</th>\n",
       "      <td>0.000000</td>\n",
       "      <td>0.043843</td>\n",
       "      <td>0.061856</td>\n",
       "      <td>0.164273</td>\n",
       "      <td>0.220817</td>\n",
       "      <td>0.482077</td>\n",
       "      <td>0.426667</td>\n",
       "      <td>1.0</td>\n",
       "      <td>0.0</td>\n",
       "      <td>0.0</td>\n",
       "      <td>...</td>\n",
       "      <td>0.0</td>\n",
       "      <td>0.0</td>\n",
       "      <td>1.0</td>\n",
       "      <td>0.0</td>\n",
       "      <td>0.0</td>\n",
       "      <td>0.0</td>\n",
       "      <td>0.0</td>\n",
       "      <td>0.0</td>\n",
       "      <td>1.000000</td>\n",
       "      <td>0.036395</td>\n",
       "    </tr>\n",
       "    <tr>\n",
       "      <th>175230</th>\n",
       "      <td>0.007317</td>\n",
       "      <td>0.097201</td>\n",
       "      <td>0.099656</td>\n",
       "      <td>0.164273</td>\n",
       "      <td>0.077056</td>\n",
       "      <td>0.269411</td>\n",
       "      <td>0.426667</td>\n",
       "      <td>1.0</td>\n",
       "      <td>0.0</td>\n",
       "      <td>0.0</td>\n",
       "      <td>...</td>\n",
       "      <td>0.0</td>\n",
       "      <td>0.0</td>\n",
       "      <td>0.0</td>\n",
       "      <td>1.0</td>\n",
       "      <td>0.0</td>\n",
       "      <td>0.0</td>\n",
       "      <td>0.0</td>\n",
       "      <td>0.0</td>\n",
       "      <td>1.000000</td>\n",
       "      <td>0.039966</td>\n",
       "    </tr>\n",
       "  </tbody>\n",
       "</table>\n",
       "<p>175231 rows × 80 columns</p>\n",
       "</div>"
      ],
      "text/plain": [
       "        total_items  subtotal  total_outstanding_orders  \\\n",
       "0          0.007317  0.128396                  0.092784   \n",
       "1          0.000000  0.070896                  0.027491   \n",
       "2          0.007317  0.178022                  0.082474   \n",
       "3          0.000000  0.056903                  0.048110   \n",
       "4          0.002439  0.135075                  0.044674   \n",
       "...             ...       ...                       ...   \n",
       "175226     0.004878  0.051828                  0.099656   \n",
       "175227     0.012195  0.112313                  0.068729   \n",
       "175228     0.009756  0.068507                  0.158076   \n",
       "175229     0.000000  0.043843                  0.061856   \n",
       "175230     0.007317  0.097201                  0.099656   \n",
       "\n",
       "        estimated_order_place_duration  \\\n",
       "0                             0.164273   \n",
       "1                             0.164273   \n",
       "2                             0.164273   \n",
       "3                             0.164273   \n",
       "4                             0.164273   \n",
       "...                                ...   \n",
       "175226                        0.092449   \n",
       "175227                        0.092449   \n",
       "175228                        0.092449   \n",
       "175229                        0.164273   \n",
       "175230                        0.164273   \n",
       "\n",
       "        estimated_store_to_consumer_driving_duration  \\\n",
       "0                                           0.495112   \n",
       "1                                           0.396780   \n",
       "2                                           0.166187   \n",
       "3                                           0.457159   \n",
       "4                                           0.117884   \n",
       "...                                              ...   \n",
       "175226                                      0.190339   \n",
       "175227                                      0.526164   \n",
       "175228                                      0.457159   \n",
       "175229                                      0.220817   \n",
       "175230                                      0.077056   \n",
       "\n",
       "        actual_total_delivery_duration  total_available_dashers  \\\n",
       "0                             0.465864                 0.553333   \n",
       "1                             0.496897                 0.420000   \n",
       "2                             0.188094                 0.440000   \n",
       "3                             0.275111                 0.420000   \n",
       "4                             0.365674                 0.426667   \n",
       "...                                ...                      ...   \n",
       "175226                        0.482077                 0.426667   \n",
       "175227                        0.415706                 0.433333   \n",
       "175228                        0.368208                 0.413333   \n",
       "175229                        0.482077                 0.426667   \n",
       "175230                        0.269411                 0.426667   \n",
       "\n",
       "        market_id_1.0  market_id_2.0  market_id_3.0  ...  hour_16  hour_17  \\\n",
       "0                 1.0            0.0            0.0  ...      0.0      0.0   \n",
       "1                 0.0            1.0            0.0  ...      0.0      0.0   \n",
       "2                 0.0            1.0            0.0  ...      0.0      0.0   \n",
       "3                 1.0            0.0            0.0  ...      0.0      0.0   \n",
       "4                 1.0            0.0            0.0  ...      0.0      0.0   \n",
       "...               ...            ...            ...  ...      ...      ...   \n",
       "175226            1.0            0.0            0.0  ...      0.0      0.0   \n",
       "175227            1.0            0.0            0.0  ...      0.0      0.0   \n",
       "175228            1.0            0.0            0.0  ...      0.0      0.0   \n",
       "175229            1.0            0.0            0.0  ...      0.0      0.0   \n",
       "175230            1.0            0.0            0.0  ...      0.0      0.0   \n",
       "\n",
       "        hour_18  hour_19  hour_20  hour_21  hour_22  hour_23  ratio_of_items  \\\n",
       "0           0.0      0.0      0.0      0.0      1.0      0.0        1.000000   \n",
       "1           0.0      0.0      0.0      1.0      0.0      0.0        1.000000   \n",
       "2           0.0      0.0      0.0      0.0      0.0      0.0        0.746921   \n",
       "3           0.0      0.0      0.0      0.0      0.0      0.0        1.000000   \n",
       "4           0.0      0.0      0.0      0.0      0.0      0.0        1.000000   \n",
       "...         ...      ...      ...      ...      ...      ...             ...   \n",
       "175226      0.0      0.0      0.0      0.0      0.0      0.0        1.000000   \n",
       "175227      0.0      0.0      0.0      0.0      0.0      0.0        0.662562   \n",
       "175228      0.0      0.0      0.0      0.0      0.0      0.0        0.595074   \n",
       "175229      1.0      0.0      0.0      0.0      0.0      0.0        1.000000   \n",
       "175230      0.0      1.0      0.0      0.0      0.0      0.0        1.000000   \n",
       "\n",
       "        average_price  \n",
       "0            0.061088  \n",
       "1            0.095238  \n",
       "2            0.082449  \n",
       "3            0.103741  \n",
       "4            0.123129  \n",
       "...               ...  \n",
       "175226       0.033810  \n",
       "175227       0.041837  \n",
       "175228       0.023776  \n",
       "175229       0.036395  \n",
       "175230       0.039966  \n",
       "\n",
       "[175231 rows x 80 columns]"
      ]
     },
     "execution_count": 46,
     "metadata": {},
     "output_type": "execute_result"
    }
   ],
   "source": [
    "scaled_df"
   ]
  },
  {
   "cell_type": "code",
   "execution_count": 47,
   "id": "7558fb6f",
   "metadata": {},
   "outputs": [],
   "source": [
    "X_train, X_test, y_train, y_test = train_test_split(scaled_df[features], scaled_df['actual_total_delivery_duration'], test_size=0.2, random_state=42)"
   ]
  },
  {
   "cell_type": "markdown",
   "id": "a9ecda81",
   "metadata": {},
   "source": [
    "###  2.2 Measuring Importance of Features"
   ]
  },
  {
   "cell_type": "code",
   "execution_count": 48,
   "id": "f4a67d08",
   "metadata": {},
   "outputs": [],
   "source": [
    "from sklearn.ensemble import RandomForestRegressor"
   ]
  },
  {
   "cell_type": "code",
   "execution_count": 49,
   "id": "0209a74a",
   "metadata": {},
   "outputs": [
    {
     "data": {
      "image/png": "[encoded data removed]",
      "text/plain": [
       "<Figure size 1080x864 with 1 Axes>"
      ]
     },
     "metadata": {
      "needs_background": "light"
     },
     "output_type": "display_data"
    }
   ],
   "source": [
    "feature_names = [f\"feature {i}\" for i in range((X.shape[1]))]\n",
    "forest = RandomForestRegressor(random_state=42)\n",
    "forest.fit(X_train, y_train)\n",
    "feats = {} \n",
    "for feature, importance in zip(X.columns, forest.feature_importances_):\n",
    "    feats[feature] = importance\n",
    "\n",
    "importances = pd.DataFrame.from_dict(feats, orient='index').rename(columns={0: 'Gini-importance'})\n",
    "importances.sort_values(by='Gini-importance').plot(kind='bar', rot=90, figsize=(15,12))\n",
    "plt.show()                                              "
   ]
  },
  {
   "cell_type": "code",
   "execution_count": 50,
   "id": "6c99675c",
   "metadata": {},
   "outputs": [],
   "source": [
    "from sklearn.decomposition import PCA"
   ]
  },
  {
   "cell_type": "code",
   "execution_count": 51,
   "id": "063fad22",
   "metadata": {},
   "outputs": [],
   "source": [
    "pca = PCA().fit(X_train)"
   ]
  },
  {
   "cell_type": "code",
   "execution_count": 52,
   "id": "a34e9a3d",
   "metadata": {},
   "outputs": [
    {
     "data": {
      "image/png": "[encoded data removed]",
      "text/plain": [
       "<Figure size 432x288 with 1 Axes>"
      ]
     },
     "metadata": {
      "needs_background": "light"
     },
     "output_type": "display_data"
    }
   ],
   "source": [
    "plt.plot(np.cumsum(pca.explained_variance_ratio_))\n",
    "plt.xlim(0,79,1)\n",
    "plt.xlabel('Number of components')\n",
    "plt.ylabel('Cumulative explained variance')\n",
    "plt.show()"
   ]
  },
  {
   "cell_type": "markdown",
   "id": "47f2ddbc",
   "metadata": {},
   "source": [
    "### 2.3 Selecting the Models"
   ]
  },
  {
   "cell_type": "code",
   "execution_count": 53,
   "id": "42bc228f",
   "metadata": {},
   "outputs": [],
   "source": [
    "from xgboost import XGBRegressor\n",
    "from lightgbm import LGBMRegressor"
   ]
  },
  {
   "cell_type": "code",
   "execution_count": 54,
   "id": "3fd15866",
   "metadata": {},
   "outputs": [],
   "source": [
    "from sklearn.linear_model import LogisticRegression\n",
    "from sklearn.linear_model import Ridge\n",
    "from sklearn.tree import DecisionTreeRegressor\n",
    "from sklearn.svm import SVR\n",
    "from sklearn.neighbors import KNeighborsRegressor\n",
    "from sklearn.neural_network import MLPRegressor\n",
    "from sklearn.metrics import mean_squared_error"
   ]
  },
  {
   "cell_type": "code",
   "execution_count": 55,
   "id": "79d66391",
   "metadata": {},
   "outputs": [],
   "source": [
    "models = {\"Ridge\" : Ridge(),\n",
    "         \"Decision Tree\" : DecisionTreeRegressor(),\n",
    "         \"Random Forest\" : RandomForestRegressor(),\n",
    "         \"XGBoost\" : XGBRegressor(),\n",
    "         \"LightGBM\" : LGBMRegressor(),\n",
    "         \"K Nearest Neighbors\" : KNeighborsRegressor(),\n",
    "         \"Multi Layer Perceptron\" : MLPRegressor()}"
   ]
  },
  {
   "cell_type": "code",
   "execution_count": 56,
   "id": "98b58ab3",
   "metadata": {},
   "outputs": [],
   "source": [
    "def train_model (X_train, X_test, y_train, y_test, model, model_name, scaler):\n",
    "    model.fit(X_train, y_train)\n",
    "    y_predict = model.predict(X_test)\n",
    "    y_predict1 = scaler.inverse_transform(y_predict.reshape(-1, 1))\n",
    "    y_test1 = scaler.inverse_transform(y_test.values.reshape(-1, 1))\n",
    "    test_error = mean_squared_error(y_test1, y_predict1, squared=False)\n",
    "    print(\"Test error = \"'{}'.format(test_error)+\" in \" + model_name)"
   ]
  },
  {
   "cell_type": "markdown",
   "id": "1d37638e",
   "metadata": {},
   "source": [
    "### 2.4 Results\n",
    "LightGBM and XGBoost give us the best results. Hyperparameter Tuning can be used to optimise the models further."
   ]
  },
  {
   "cell_type": "code",
   "execution_count": 57,
   "id": "9cf18982",
   "metadata": {},
   "outputs": [
    {
     "name": "stdout",
     "output_type": "stream",
     "text": [
      "Test error = 907.1592407226562 in Ridge\n",
      "Test error = 1256.132471132352 in Decision Tree\n",
      "Test error = 884.6114455588254 in Random Forest\n",
      "Test error = 867.0507202148438 in XGBoost\n",
      "Test error = 866.5979004993342 in LightGBM\n",
      "Test error = 968.1220703125 in K Nearest Neighbors\n",
      "Test error = 886.8770141601562 in Multi Layer Perceptron\n"
     ]
    }
   ],
   "source": [
    "scaler = MinMaxScaler()\n",
    "y_scaler = scaler.fit(final_df[\"actual_total_delivery_duration\"].values.reshape(-1,1))\n",
    "for model in models:\n",
    "    train_model(X_train, X_test, y_train, y_test, models[model], model, y_scaler)"
   ]
  },
  {
   "cell_type": "markdown",
   "id": "83abf904",
   "metadata": {},
   "source": [
    "### 2.5 Neural Network using Tensor Flow"
   ]
  },
  {
   "cell_type": "code",
   "execution_count": 58,
   "id": "407fed74",
   "metadata": {},
   "outputs": [],
   "source": [
    "import keras\n",
    "from keras.models import Sequential\n",
    "from keras.layers import Dense\n",
    "from keras.metrics import RootMeanSquaredError\n",
    "import tensorflow as tf"
   ]
  },
  {
   "cell_type": "code",
   "execution_count": 59,
   "id": "6daffa5d",
   "metadata": {},
   "outputs": [],
   "source": [
    "model = tf.keras.Sequential()\n",
    "model.add(Dense(40, input_dim = (len(features)), activation = 'relu'))"
   ]
  },
  {
   "cell_type": "code",
   "execution_count": 60,
   "id": "533d16a2",
   "metadata": {},
   "outputs": [],
   "source": [
    "model.add(Dense(10, activation = 'linear'))\n",
    "model.add(Dense(1, activation = 'linear'))"
   ]
  },
  {
   "cell_type": "code",
   "execution_count": 61,
   "id": "b052d586",
   "metadata": {},
   "outputs": [],
   "source": [
    "model.compile(optimizer='adam', loss='mse', metrics=[RootMeanSquaredError()])"
   ]
  },
  {
   "cell_type": "code",
   "execution_count": 62,
   "id": "6369d488",
   "metadata": {},
   "outputs": [
    {
     "name": "stdout",
     "output_type": "stream",
     "text": [
      "Epoch 1/50\n",
      "4381/4381 - 5s - loss: 0.0147 - root_mean_squared_error: 0.1211 - 5s/epoch - 1ms/step\n",
      "Epoch 2/50\n",
      "4381/4381 - 5s - loss: 0.0134 - root_mean_squared_error: 0.1158 - 5s/epoch - 1ms/step\n",
      "Epoch 3/50\n",
      "4381/4381 - 4s - loss: 0.0132 - root_mean_squared_error: 0.1149 - 4s/epoch - 1ms/step\n",
      "Epoch 4/50\n",
      "4381/4381 - 5s - loss: 0.0131 - root_mean_squared_error: 0.1143 - 5s/epoch - 1ms/step\n",
      "Epoch 5/50\n",
      "4381/4381 - 5s - loss: 0.0130 - root_mean_squared_error: 0.1140 - 5s/epoch - 1ms/step\n",
      "Epoch 6/50\n",
      "4381/4381 - 4s - loss: 0.0129 - root_mean_squared_error: 0.1136 - 4s/epoch - 965us/step\n",
      "Epoch 7/50\n",
      "4381/4381 - 4s - loss: 0.0128 - root_mean_squared_error: 0.1133 - 4s/epoch - 995us/step\n",
      "Epoch 8/50\n",
      "4381/4381 - 4s - loss: 0.0128 - root_mean_squared_error: 0.1131 - 4s/epoch - 913us/step\n",
      "Epoch 9/50\n",
      "4381/4381 - 4s - loss: 0.0127 - root_mean_squared_error: 0.1129 - 4s/epoch - 920us/step\n",
      "Epoch 10/50\n",
      "4381/4381 - 4s - loss: 0.0127 - root_mean_squared_error: 0.1127 - 4s/epoch - 938us/step\n",
      "Epoch 11/50\n",
      "4381/4381 - 4s - loss: 0.0126 - root_mean_squared_error: 0.1124 - 4s/epoch - 947us/step\n",
      "Epoch 12/50\n",
      "4381/4381 - 4s - loss: 0.0126 - root_mean_squared_error: 0.1123 - 4s/epoch - 908us/step\n",
      "Epoch 13/50\n",
      "4381/4381 - 4s - loss: 0.0126 - root_mean_squared_error: 0.1122 - 4s/epoch - 902us/step\n",
      "Epoch 14/50\n",
      "4381/4381 - 4s - loss: 0.0125 - root_mean_squared_error: 0.1120 - 4s/epoch - 904us/step\n",
      "Epoch 15/50\n",
      "4381/4381 - 4s - loss: 0.0125 - root_mean_squared_error: 0.1119 - 4s/epoch - 933us/step\n",
      "Epoch 16/50\n",
      "4381/4381 - 4s - loss: 0.0125 - root_mean_squared_error: 0.1118 - 4s/epoch - 911us/step\n",
      "Epoch 17/50\n",
      "4381/4381 - 4s - loss: 0.0125 - root_mean_squared_error: 0.1117 - 4s/epoch - 915us/step\n",
      "Epoch 18/50\n",
      "4381/4381 - 5s - loss: 0.0125 - root_mean_squared_error: 0.1117 - 5s/epoch - 1ms/step\n",
      "Epoch 19/50\n",
      "4381/4381 - 4s - loss: 0.0125 - root_mean_squared_error: 0.1116 - 4s/epoch - 957us/step\n",
      "Epoch 20/50\n",
      "4381/4381 - 5s - loss: 0.0124 - root_mean_squared_error: 0.1115 - 5s/epoch - 1ms/step\n",
      "Epoch 21/50\n",
      "4381/4381 - 4s - loss: 0.0124 - root_mean_squared_error: 0.1114 - 4s/epoch - 957us/step\n",
      "Epoch 22/50\n",
      "4381/4381 - 4s - loss: 0.0124 - root_mean_squared_error: 0.1114 - 4s/epoch - 905us/step\n",
      "Epoch 23/50\n",
      "4381/4381 - 4s - loss: 0.0124 - root_mean_squared_error: 0.1113 - 4s/epoch - 927us/step\n",
      "Epoch 24/50\n",
      "4381/4381 - 4s - loss: 0.0124 - root_mean_squared_error: 0.1113 - 4s/epoch - 983us/step\n",
      "Epoch 25/50\n",
      "4381/4381 - 4s - loss: 0.0124 - root_mean_squared_error: 0.1112 - 4s/epoch - 962us/step\n",
      "Epoch 26/50\n",
      "4381/4381 - 4s - loss: 0.0124 - root_mean_squared_error: 0.1112 - 4s/epoch - 993us/step\n",
      "Epoch 27/50\n",
      "4381/4381 - 4s - loss: 0.0123 - root_mean_squared_error: 0.1111 - 4s/epoch - 929us/step\n",
      "Epoch 28/50\n",
      "4381/4381 - 4s - loss: 0.0123 - root_mean_squared_error: 0.1111 - 4s/epoch - 901us/step\n",
      "Epoch 29/50\n",
      "4381/4381 - 4s - loss: 0.0123 - root_mean_squared_error: 0.1110 - 4s/epoch - 922us/step\n",
      "Epoch 30/50\n",
      "4381/4381 - 4s - loss: 0.0123 - root_mean_squared_error: 0.1110 - 4s/epoch - 895us/step\n",
      "Epoch 31/50\n",
      "4381/4381 - 4s - loss: 0.0123 - root_mean_squared_error: 0.1109 - 4s/epoch - 905us/step\n",
      "Epoch 32/50\n",
      "4381/4381 - 4s - loss: 0.0123 - root_mean_squared_error: 0.1109 - 4s/epoch - 1ms/step\n",
      "Epoch 33/50\n",
      "4381/4381 - 4s - loss: 0.0123 - root_mean_squared_error: 0.1109 - 4s/epoch - 883us/step\n",
      "Epoch 34/50\n",
      "4381/4381 - 4s - loss: 0.0123 - root_mean_squared_error: 0.1108 - 4s/epoch - 888us/step\n",
      "Epoch 35/50\n",
      "4381/4381 - 4s - loss: 0.0123 - root_mean_squared_error: 0.1108 - 4s/epoch - 919us/step\n",
      "Epoch 36/50\n",
      "4381/4381 - 4s - loss: 0.0123 - root_mean_squared_error: 0.1108 - 4s/epoch - 899us/step\n",
      "Epoch 37/50\n",
      "4381/4381 - 4s - loss: 0.0123 - root_mean_squared_error: 0.1108 - 4s/epoch - 916us/step\n",
      "Epoch 38/50\n",
      "4381/4381 - 4s - loss: 0.0123 - root_mean_squared_error: 0.1107 - 4s/epoch - 915us/step\n",
      "Epoch 39/50\n",
      "4381/4381 - 4s - loss: 0.0123 - root_mean_squared_error: 0.1107 - 4s/epoch - 948us/step\n",
      "Epoch 40/50\n",
      "4381/4381 - 4s - loss: 0.0122 - root_mean_squared_error: 0.1106 - 4s/epoch - 923us/step\n",
      "Epoch 41/50\n",
      "4381/4381 - 4s - loss: 0.0123 - root_mean_squared_error: 0.1107 - 4s/epoch - 903us/step\n",
      "Epoch 42/50\n",
      "4381/4381 - 4s - loss: 0.0122 - root_mean_squared_error: 0.1106 - 4s/epoch - 902us/step\n",
      "Epoch 43/50\n",
      "4381/4381 - 4s - loss: 0.0122 - root_mean_squared_error: 0.1106 - 4s/epoch - 882us/step\n",
      "Epoch 44/50\n",
      "4381/4381 - 4s - loss: 0.0122 - root_mean_squared_error: 0.1106 - 4s/epoch - 912us/step\n",
      "Epoch 45/50\n",
      "4381/4381 - 4s - loss: 0.0122 - root_mean_squared_error: 0.1106 - 4s/epoch - 906us/step\n",
      "Epoch 46/50\n",
      "4381/4381 - 4s - loss: 0.0122 - root_mean_squared_error: 0.1106 - 4s/epoch - 943us/step\n",
      "Epoch 47/50\n",
      "4381/4381 - 4s - loss: 0.0122 - root_mean_squared_error: 0.1105 - 4s/epoch - 904us/step\n",
      "Epoch 48/50\n",
      "4381/4381 - 4s - loss: 0.0122 - root_mean_squared_error: 0.1105 - 4s/epoch - 883us/step\n",
      "Epoch 49/50\n",
      "4381/4381 - 4s - loss: 0.0122 - root_mean_squared_error: 0.1105 - 4s/epoch - 891us/step\n",
      "Epoch 50/50\n",
      "4381/4381 - 4s - loss: 0.0122 - root_mean_squared_error: 0.1105 - 4s/epoch - 906us/step\n"
     ]
    }
   ],
   "source": [
    "history = model.fit(X_train, y_train, epochs = 50, verbose = 2)"
   ]
  },
  {
   "cell_type": "code",
   "execution_count": 63,
   "id": "3f824663",
   "metadata": {},
   "outputs": [
    {
     "name": "stdout",
     "output_type": "stream",
     "text": [
      "1096/1096 [==============================] - 1s 1ms/step\n"
     ]
    }
   ],
   "source": [
    "y_predict = model.predict(X_test)"
   ]
  },
  {
   "cell_type": "code",
   "execution_count": 64,
   "id": "6d36ec19",
   "metadata": {},
   "outputs": [],
   "source": [
    "y_scaler = scaler.fit(final_df[\"actual_total_delivery_duration\"].values.reshape(-1,1))\n",
    "y_predict1 = y_scaler.inverse_transform(y_predict.reshape(-1, 1))\n",
    "y_test1 = y_scaler.inverse_transform(y_test.values.reshape(-1, 1))"
   ]
  },
  {
   "cell_type": "code",
   "execution_count": 65,
   "id": "be377cac",
   "metadata": {},
   "outputs": [],
   "source": [
    "test_error = mean_squared_error(y_test1, y_predict1, squared=False)"
   ]
  },
  {
   "cell_type": "code",
   "execution_count": 66,
   "id": "73c12234",
   "metadata": {},
   "outputs": [
    {
     "data": {
      "text/plain": [
       "878.9934"
      ]
     },
     "execution_count": 66,
     "metadata": {},
     "output_type": "execute_result"
    }
   ],
   "source": [
    "test_error"
   ]
  },
  {
   "cell_type": "markdown",
   "id": "dc730923",
   "metadata": {},
   "source": [
    "### 2.6 Conclusion\n",
    "In conclusion, the data science project aimed to predict the delivery duration of DoorDash orders using various factors such as time of order, city, availability of delivery people, etc. The project involved collecting and pre-processing data, performing exploratory data analysis, developing and training a predictive model, and evaluating its performance.\n",
    "\n",
    "The results showed that the predictive model developed using boosting algorithms gave the best performance. The model can estimate the delivery duration accurately and can be integrated into DoorDash's existing systems to optimize delivery routes and schedules.\n",
    "\n",
    "However, further optimization of the model can be done to improve its performance. This can include exploring new features, adjusting hyperparameters, and using different types of algorithms. Additionally, as new data becomes available, the model can be retrained and updated to improve its accuracy."
   ]
  }
 ],
 "metadata": {
  "kernelspec": {
   "display_name": "Python 3",
   "language": "python",
   "name": "python3"
  },
  "language_info": {
   "codemirror_mode": {
    "name": "ipython",
    "version": 3
   },
   "file_extension": ".py",
   "mimetype": "text/x-python",
   "name": "python",
   "nbconvert_exporter": "python",
   "pygments_lexer": "ipython3",
   "version": "3.8.8"
  }
 },
 "nbformat": 4,
 "nbformat_minor": 5
}
